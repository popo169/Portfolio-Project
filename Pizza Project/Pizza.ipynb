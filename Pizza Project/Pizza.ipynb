{
  "nbformat": 4,
  "nbformat_minor": 0,
  "metadata": {
    "colab": {
      "provenance": []
    },
    "kernelspec": {
      "name": "python3",
      "display_name": "Python 3"
    },
    "language_info": {
      "name": "python"
    }
  },
  "cells": [
    {
      "cell_type": "markdown",
      "source": [
        "#Introduction\n",
        "Business intelligence is very important nowadays. It helps you to know better of your company including how the sales recently, which item is going to out of stock and most importantly, what is the profit.\n",
        "\n",
        "In this project, I am going to demonstrate how to use data from a pizza shop along with SQL to create 3 dashboards for business intelligence."
      ],
      "metadata": {
        "id": "cUgxnMi1amcf"
      }
    },
    {
      "cell_type": "markdown",
      "source": [
        "##Data content\n",
        "There are 10 tables in the dataset.\n",
        "\n",
        "Table name | Content | Columns\n",
        "--- | --- | ---\n",
        "Address | Customers' address and zip code | 'add_id', 'delivery_address1', 'delivery_address2', 'delivery_city', 'delivery_zipcode'\n",
        "Customers | First and last name | 'cust_id', 'cust_firstname', 'cust_lastname'\n",
        "Ingredient | Ingredient name, weight, unit and price | 'ing_id', 'ing_name', 'ing_weight', 'ing_meas', 'ing_price'\n",
        "Inventory | Quantity of inventory | 'inv_id', 'item_id', 'quantity'\n",
        "Item | Item name, code, category, size and price | 'item_id', 'sku', 'item_name', 'item_cat', 'item_size', 'item_price'\n",
        "Orders | Order create time, item ordered, quantity, customer ID, delivery/pick up, address ID | 'row_id', 'order_id', 'created_at', 'item_id', 'quantity', 'cust_id', 'delivery', 'add_id'\n",
        "Recipe | Recipe ID, ingredient ID, required quantity | 'row_id', 'recipe_id', 'ing_id', 'quantity'\n",
        "Rota | Duty date, shift ID, staff ID | 'row_id', 'rota_id', 'date', 'shift_id', 'staff_id'\n",
        "Shift | Day of week, start time and end time | 'shift_id', 'day_of_week', 'start_time', 'end_time'\n",
        "Staff | Staff first and last name, position, hourly rate | 'staff_id', 'first_name', 'last_name', 'position', 'hourly_rate'"
      ],
      "metadata": {
        "id": "PwUnDFpPAqC6"
      }
    },
    {
      "cell_type": "markdown",
      "source": [
        "##Dashboard 1\n",
        "This dashboard contains the basic information about the pizza shop. It tells whether the pizza shop is earning or losing money.\n",
        "1.   Total number of order\n",
        "2.   Total sales\n",
        "3.   Total item sold\n",
        "4.   Average order value\n",
        "5.   Sales by category\n",
        "6.   Top selling item\n",
        "7.   Orders by hour\n",
        "8.   Sales by hour\n",
        "9.   Orders by address\n",
        "10.  Orders by delivery/pick up"
      ],
      "metadata": {
        "id": "pmlRLHKeAyU1"
      }
    },
    {
      "cell_type": "markdown",
      "source": [
        "##Dashboard 2\n",
        "The second dashboard is about the material cost and stock information to keep the pizza shop running.\n",
        "1.   Total quantity required for orders by ingredient\n",
        "2.   Total cost of ingredients for orders\n",
        "3.   Calculated cost of pizza\n",
        "4.   Percentage stock remaining by ingredient\n",
        "5.   List of ingredients to re-order based on remaining inventory"
      ],
      "metadata": {
        "id": "pavkftPyAsec"
      }
    },
    {
      "cell_type": "markdown",
      "source": [
        "##Dashboard 3\n",
        "The last dashboard is going to capture the human resource cost of the pizza shop.\n",
        "1.   Hours worked by staff member\n",
        "2.   Total hours worked\n",
        "3.   Cost per staff member\n",
        "4.   Total staff cost"
      ],
      "metadata": {
        "id": "24J6_Qb7A0ee"
      }
    },
    {
      "cell_type": "code",
      "source": [],
      "metadata": {
        "id": "wE3urEK9A25Z"
      },
      "execution_count": null,
      "outputs": []
    }
  ]
}