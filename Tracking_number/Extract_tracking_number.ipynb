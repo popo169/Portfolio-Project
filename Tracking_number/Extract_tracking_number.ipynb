{
  "nbformat": 4,
  "nbformat_minor": 0,
  "metadata": {
    "colab": {
      "provenance": []
    },
    "kernelspec": {
      "name": "python3",
      "display_name": "Python 3"
    },
    "language_info": {
      "name": "python"
    }
  },
  "cells": [
    {
      "cell_type": "markdown",
      "source": [
        "<a class=\"anchor\" id=\"0.1\"></a>\n",
        "# **Introduction**\n",
        "\n",
        "Tracking number is a set of number which help customers to track their packages' location after giving it to a courier company.\n",
        "In order to confirm what packages are shipped, staffs of a courier company need to take pictures of the bill and record the tracking numbers.\n",
        "To ease up the checking, this programe is created to capture the tacking number in the pictures and compare to the record of the courier data to confirm packages shipped.\n",
        "\n",
        "##**Objective**\n",
        "Reocrd tracking number from the pdf image and convert to an excel file\n",
        "\n",
        "##**Input**\n",
        "pdf files with image content\n",
        "\n",
        "##**Output**\n",
        "Excel file with list of tracking numbers\n",
        "\n",
        "##**Steps**\n",
        "- read pdf image\n",
        "- convert to plain text\n",
        "- extract the tracking number\n",
        "- append on the list\n",
        "- export to an excel"
      ],
      "metadata": {
        "id": "V0bdjl7BN39W"
      }
    },
    {
      "cell_type": "code",
      "source": [
        "# Link to google drive\n",
        "from google.colab import drive\n",
        "drive.mount('/content/gdrive')"
      ],
      "metadata": {
        "colab": {
          "base_uri": "https://localhost:8080/"
        },
        "id": "k7lJnp4c-cyL",
        "outputId": "80d21816-1c19-45fd-fe85-2d5e9bbffad4"
      },
      "execution_count": 1,
      "outputs": [
        {
          "output_type": "stream",
          "name": "stdout",
          "text": [
            "Mounted at /content/gdrive\n"
          ]
        }
      ]
    },
    {
      "cell_type": "code",
      "source": [
        "# Import library\n",
        "## keep silent\n",
        "%%capture\n",
        "!pip install PyMuPDF\n",
        "import fitz  # PyMuPDF\n",
        "\n",
        "!apt install tesseract-ocr # installs the Tesseract OCR engine\n",
        "!pip install pytesseract # installs the Python wrapper\n",
        "import pytesseract\n",
        "\n",
        "from PIL import Image\n",
        "import os\n",
        "import re\n",
        "import pandas as pd"
      ],
      "metadata": {
        "id": "rMEwgo4_50ms"
      },
      "execution_count": 2,
      "outputs": []
    },
    {
      "cell_type": "code",
      "source": [
        "# Define folder\n",
        "pdf_folder='/content/gdrive/My Drive/pdf_image/'\n",
        "\n",
        "# Initialize empty list\n",
        "track_list = []"
      ],
      "metadata": {
        "id": "3TgdfY-n6Z3t"
      },
      "execution_count": 9,
      "outputs": []
    },
    {
      "cell_type": "code",
      "source": [
        "# Create pdf list\n",
        "all_pdf = os.listdir(pdf_folder)\n",
        "\n",
        "# Filter for PDF files\n",
        "pdf_files = [file for file in all_pdf if file.endswith(\".pdf\")]\n",
        "pdf_index = 1\n",
        "\n",
        "# Define regex pattern\n",
        "regex = r'XX\\s*\\d+'\n",
        "\n",
        "# Process each PDF file\n",
        "for pdf_file in pdf_files:\n",
        "    pdf = fitz.open(os.path.join(pdf_folder,  pdf_file)) # open a document\n",
        "    track_list.append(f'doc{pdf_index}')\n",
        "\n",
        "    for pages in range(len(pdf)): # iterate over pdf pages\n",
        "        page = pdf[pages] # get the page\n",
        "        image_list = page.get_images()\n",
        "\n",
        "        for img in image_list:\n",
        "            xref = img[0] # get the XREF of the image\n",
        "            pix = fitz.Pixmap(pdf, xref) # create a Pixmap\n",
        "\n",
        "            if pix.n - pix.alpha > 3: # CMYK: convert to RGB first\n",
        "               pix = fitz.Pixmap(fitz.csRGB, pix)\n",
        "\n",
        "            text = pytesseract.image_to_string(Image.frombytes(\"RGB\", (pix.width, pix.height), pix.samples)) # Use pytesseract to do OCR on the image\n",
        "            pix = None # reset pix\n",
        "\n",
        "            track_no = re.findall(regex, text)[0].replace(\" \", \"\")\n",
        "            track_list.append(track_no)\n",
        "\n",
        "    pdf_index += 1"
      ],
      "metadata": {
        "id": "jN0rLFXaMT5M"
      },
      "execution_count": 10,
      "outputs": []
    },
    {
      "cell_type": "code",
      "source": [
        "# Define excel file path\n",
        "excel_path = os.path.join(pdf_folder + 'track_no.xlsx')\n",
        "\n",
        "df = pd.DataFrame(track_list)\n",
        "\n",
        "# Export to excel file\n",
        "df.to_excel(excel_path, index=False, header=False)"
      ],
      "metadata": {
        "id": "zSCgPb5aN5sR"
      },
      "execution_count": 11,
      "outputs": []
    }
  ]
}
