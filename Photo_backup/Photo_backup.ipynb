{
  "nbformat": 4,
  "nbformat_minor": 0,
  "metadata": {
    "colab": {
      "provenance": []
    },
    "kernelspec": {
      "name": "python3",
      "display_name": "Python 3"
    },
    "language_info": {
      "name": "python"
    }
  },
  "cells": [
    {
      "cell_type": "markdown",
      "source": [
        "<a class=\"anchor\" id=\"0.1\"></a>\n",
        "# **Introduction**\n",
        "Due to the limited storage space in phone, I need to back up my photo periodically to avoid loss.\n",
        "\n",
        "##**Objective**\n",
        "Aim to copy photos from phone, read meta data of phone and put in subfold by month\n",
        "\n",
        "##**Input**\n",
        "photos\n",
        "\n",
        "##**Output**\n",
        "folder with photos\n",
        "\n",
        "##**Steps**\n",
        "- read photo meta data\n",
        "- create subfolder\n",
        "- move photos to subfolder"
      ],
      "metadata": {
        "id": "V0bdjl7BN39W"
      }
    },
    {
      "cell_type": "code",
      "source": [
        "# Link to google drive\n",
        "from google.colab import drive\n",
        "drive.mount('/content/gdrive')"
      ],
      "metadata": {
        "colab": {
          "base_uri": "https://localhost:8080/"
        },
        "id": "k7lJnp4c-cyL",
        "outputId": "73d44cb4-8e10-4edd-be19-214e01ccdfac"
      },
      "execution_count": 27,
      "outputs": [
        {
          "output_type": "stream",
          "name": "stdout",
          "text": [
            "Drive already mounted at /content/gdrive; to attempt to forcibly remount, call drive.mount(\"/content/gdrive\", force_remount=True).\n"
          ]
        }
      ]
    },
    {
      "cell_type": "code",
      "source": [
        "# Import library\n",
        "import os\n",
        "import re\n",
        "import pandas as pd\n",
        "from datetime import datetime\n",
        "\n",
        "from PIL import Image\n",
        "import shutil # move photos\n",
        "\n",
        "!pip install pyheif\n",
        "import pyheif # work with heif images"
      ],
      "metadata": {
        "id": "rMEwgo4_50ms",
        "colab": {
          "base_uri": "https://localhost:8080/"
        },
        "outputId": "4cce7502-deb2-40c0-e97f-1076deb0d525"
      },
      "execution_count": 28,
      "outputs": [
        {
          "output_type": "stream",
          "name": "stdout",
          "text": [
            "Requirement already satisfied: pyheif in /usr/local/lib/python3.10/dist-packages (0.7.1)\n",
            "Requirement already satisfied: cffi>=1.0.0 in /usr/local/lib/python3.10/dist-packages (from pyheif) (1.16.0)\n",
            "Requirement already satisfied: pycparser in /usr/local/lib/python3.10/dist-packages (from cffi>=1.0.0->pyheif) (2.21)\n"
          ]
        }
      ]
    },
    {
      "cell_type": "code",
      "source": [
        "# Define folder\n",
        "folder='/content/gdrive/My Drive/Photo/'"
      ],
      "metadata": {
        "id": "3TgdfY-n6Z3t"
      },
      "execution_count": 29,
      "outputs": []
    },
    {
      "cell_type": "code",
      "source": [
        "def organize_photos(photo_folder):\n",
        "    for filename in os.listdir(photo_folder):\n",
        "        img_path = os.path.join(photo_folder, filename)\n",
        "\n",
        "        if filename.lower().endswith(('.jpg', '.jpeg', '.png', '.gif')):\n",
        "            try:\n",
        "            # Extract creation date from photo metadata\n",
        "              with Image.open(img_path) as img:\n",
        "                creation_date = img._getexif()[36867]\n",
        "                creation_date = datetime.strptime(creation_date, '%Y:%m:%d %H:%M:%S')\n",
        "            except:\n",
        "              continue\n",
        "\n",
        "            # Create subfolders based on year and month\n",
        "            year_folder = os.path.join(photo_folder, str(creation_date.year))\n",
        "            month_folder = os.path.join(year_folder, str(creation_date.month))\n",
        "\n",
        "        elif filename.lower().endswith('.heic'):\n",
        "            pattern = re.compile(rb'<photoshop:DateCreated>\\b(\\d{4})-(\\d{2})\\b')\n",
        "            heif_file = pyheif.read(img_path)\n",
        "            exif_data = heif_file.metadata\n",
        "            matches = pattern.findall(exif_data[1]['data'])\n",
        "\n",
        "            year = matches[0][0].decode('utf-8')\n",
        "            month = matches[0][1].decode('utf-8')\n",
        "            year_folder = os.path.join(photo_folder, year)\n",
        "            month_folder = os.path.join(year_folder, month)\n",
        "\n",
        "        else:\n",
        "            continue\n",
        "\n",
        "        if not os.path.exists(month_folder):\n",
        "          os.makedirs(month_folder)\n",
        "\n",
        "        # Move the photo to the corresponding subfolder\n",
        "        destination_path = os.path.join(month_folder, filename)\n",
        "        shutil.move(img_path, destination_path)\n",
        "        print(f\"Moved '{filename}' to '{month_folder}'.\")\n",
        "\n",
        "    return"
      ],
      "metadata": {
        "id": "7Mog8FGmNsy-"
      },
      "execution_count": 51,
      "outputs": []
    },
    {
      "cell_type": "code",
      "source": [
        "organize_photos(folder)"
      ],
      "metadata": {
        "id": "r3fE6tr4b3ox"
      },
      "execution_count": 52,
      "outputs": []
    }
  ]
}
