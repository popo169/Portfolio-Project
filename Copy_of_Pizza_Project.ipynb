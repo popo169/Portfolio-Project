{
  "nbformat": 4,
  "nbformat_minor": 0,
  "metadata": {
    "colab": {
      "provenance": [],
      "collapsed_sections": [
        "wE3urEK9A25Z"
      ],
      "authorship_tag": "ABX9TyNfHVk64LCaJGD+llD+1zPq",
      "include_colab_link": true
    },
    "kernelspec": {
      "name": "python3",
      "display_name": "Python 3"
    },
    "language_info": {
      "name": "python"
    }
  },
  "cells": [
    {
      "cell_type": "markdown",
      "metadata": {
        "id": "view-in-github",
        "colab_type": "text"
      },
      "source": [
        "<a href=\"https://colab.research.google.com/github/popo169/Portfolio-Project/blob/main/Copy_of_Pizza_Project.ipynb\" target=\"_parent\"><img src=\"https://colab.research.google.com/assets/colab-badge.svg\" alt=\"Open In Colab\"/></a>"
      ]
    },
    {
      "cell_type": "markdown",
      "source": [
        "#Introduction"
      ],
      "metadata": {
        "id": "cUgxnMi1amcf"
      }
    },
    {
      "cell_type": "markdown",
      "source": [
        "Business intelligence is very important nowadays. It helps you to know better of your company including how the sales recently, which item is going to out of stock and most importantly, what is the profit.\n",
        "\n",
        "In this project, I am going to demonstrate how to use data from a pizza shop along with SQL to create 3 dashboards for business intelligence."
      ],
      "metadata": {
        "id": "b8gyoO6hEEMK"
      }
    },
    {
      "cell_type": "markdown",
      "source": [
        "##Data content"
      ],
      "metadata": {
        "id": "QcPTqaoGEIYz"
      }
    },
    {
      "cell_type": "markdown",
      "source": [
        "There are 10 tables in the dataset.\n",
        "\n",
        "Table name | Content | Columns\n",
        "--- | --- | ---\n",
        "Address | Customers' address and zip code | 'add_id', 'delivery_address1', 'delivery_address2', 'delivery_city', 'delivery_zipcode'\n",
        "Customers | First and last name | 'cust_id', 'cust_firstname', 'cust_lastname'\n",
        "Ingredient | Ingredient name, weight, unit and price | 'ing_id', 'ing_name', 'ing_weight', 'ing_meas', 'ing_price'\n",
        "Inventory | Quantity of inventory | 'inv_id', 'item_id', 'quantity'\n",
        "Item | Item name, code, category, size and price | 'item_id', 'sku', 'item_name', 'item_cat', 'item_size', 'item_price'\n",
        "Orders | Order create time, item ordered, quantity, customer ID, delivery/pick up, address ID | 'row_id', 'order_id', 'created_at', 'item_id', 'quantity', 'cust_id', 'delivery', 'add_id'\n",
        "Recipe | Recipe ID, ingredient ID, required quantity | 'row_id', 'recipe_id', 'ing_id', 'quantity'\n",
        "Rota | Duty date, shift ID, staff ID | 'row_id', 'rota_id', 'date', 'shift_id', 'staff_id'\n",
        "Shift | Day of week, start time and end time | 'shift_id', 'day_of_week', 'start_time', 'end_time'\n",
        "Staff | Staff first and last name, position, hourly rate | 'staff_id', 'first_name', 'last_name', 'position', 'hourly_rate'"
      ],
      "metadata": {
        "id": "PwUnDFpPAqC6"
      }
    },
    {
      "cell_type": "markdown",
      "source": [
        "##Dashboard 1"
      ],
      "metadata": {
        "id": "M7ka5oBdEMjN"
      }
    },
    {
      "cell_type": "markdown",
      "source": [
        "This dashboard contains the basic information about the pizza shop. It tells whether the pizza shop is earning or losing money.\n",
        "1.   Total number of order\n",
        "2.   Total sales\n",
        "3.   Total item sold\n",
        "4.   Average order value\n",
        "5.   Sales by category\n",
        "6.   Top selling item\n",
        "7.   Orders by hour\n",
        "8.   Sales by hour\n",
        "9.   Orders by address\n",
        "10.  Orders by delivery/pick up"
      ],
      "metadata": {
        "id": "pmlRLHKeAyU1"
      }
    },
    {
      "cell_type": "markdown",
      "source": [
        "##Dashboard 2"
      ],
      "metadata": {
        "id": "wLaLYOLcEPL3"
      }
    },
    {
      "cell_type": "markdown",
      "source": [
        "The second dashboard is about the material cost and stock information to keep the pizza shop running.\n",
        "1.   Total quantity required for orders by ingredient\n",
        "2.   Total cost of ingredients for orders\n",
        "3.   Calculated cost of pizza\n",
        "4.   Percentage stock remaining by ingredient\n",
        "5.   List of ingredients to re-order based on remaining inventory"
      ],
      "metadata": {
        "id": "pavkftPyAsec"
      }
    },
    {
      "cell_type": "markdown",
      "source": [
        "##Dashboard 3"
      ],
      "metadata": {
        "id": "psmn0uV4ER3w"
      }
    },
    {
      "cell_type": "markdown",
      "source": [
        "The last dashboard is going to capture the human resource cost of the pizza shop.\n",
        "1.   Hours worked by staff member\n",
        "2.   Total hours worked\n",
        "3.   Cost per staff member\n",
        "4.   Total staff cost"
      ],
      "metadata": {
        "id": "24J6_Qb7A0ee"
      }
    },
    {
      "cell_type": "markdown",
      "source": [
        "##Import data"
      ],
      "metadata": {
        "id": "wE3urEK9A25Z"
      }
    },
    {
      "cell_type": "code",
      "source": [
        "# connect google drive\n",
        "from google.colab import drive\n",
        "drive.mount('/content/gdrive')"
      ],
      "metadata": {
        "colab": {
          "base_uri": "https://localhost:8080/"
        },
        "id": "TSoX3qdLBLRa",
        "outputId": "d2e564d7-0155-4989-efa3-65839a9a6b14"
      },
      "execution_count": null,
      "outputs": [
        {
          "output_type": "stream",
          "name": "stdout",
          "text": [
            "Drive already mounted at /content/gdrive; to attempt to forcibly remount, call drive.mount(\"/content/gdrive\", force_remount=True).\n"
          ]
        }
      ]
    },
    {
      "cell_type": "code",
      "source": [
        "# import library\n",
        "import sqlite3\n",
        "import pandas as pd\n",
        "import numpy as np"
      ],
      "metadata": {
        "id": "dOYIT7MzBNMN"
      },
      "execution_count": null,
      "outputs": []
    },
    {
      "cell_type": "code",
      "source": [
        "# import data\n",
        "address=pd.read_csv('/content/gdrive/My Drive/dataset/SQL/pizza_proj/address.csv')\n",
        "customers=pd.read_csv('/content/gdrive/My Drive/dataset/SQL/pizza_proj/customers.csv')\n",
        "ingredient=pd.read_csv('/content/gdrive/My Drive/dataset/SQL/pizza_proj/ingredient.csv')\n",
        "inventory=pd.read_csv('/content/gdrive/My Drive/dataset/SQL/pizza_proj/inventory.csv')\n",
        "item=pd.read_csv('/content/gdrive/My Drive/dataset/SQL/pizza_proj/item.csv')\n",
        "orders=pd.read_csv('/content/gdrive/My Drive/dataset/SQL/pizza_proj/orders.csv')\n",
        "recipe=pd.read_csv('/content/gdrive/My Drive/dataset/SQL/pizza_proj/recipe.csv')\n",
        "rota=pd.read_csv('/content/gdrive/My Drive/dataset/SQL/pizza_proj/rota.csv')\n",
        "shift=pd.read_csv('/content/gdrive/My Drive/dataset/SQL/pizza_proj/shift.csv')\n",
        "staff=pd.read_csv('/content/gdrive/My Drive/dataset/SQL/pizza_proj/staff.csv')"
      ],
      "metadata": {
        "id": "_H2UlVeZBNFO"
      },
      "execution_count": null,
      "outputs": []
    },
    {
      "cell_type": "code",
      "source": [
        "# import data to sql tables\n",
        "pd_to_sqlDB(address,\"address\",\"pizza_db\")\n",
        "pd_to_sqlDB(customers,\"customers\",\"pizza_db\")\n",
        "pd_to_sqlDB(ingredient,\"ingredient\",\"pizza_db\")\n",
        "pd_to_sqlDB(inventory,\"inventory\",\"pizza_db\")\n",
        "pd_to_sqlDB(item,\"item\",\"pizza_db\")\n",
        "pd_to_sqlDB(orders,\"orders\",\"pizza_db\")\n",
        "pd_to_sqlDB(recipe,\"recipe\",\"pizza_db\")\n",
        "pd_to_sqlDB(rota,\"rota\",\"pizza_db\")\n",
        "pd_to_sqlDB(shift,\"shift\",\"pizza_db\")\n",
        "pd_to_sqlDB(staff,\"staff\",\"pizza_db\")"
      ],
      "metadata": {
        "id": "PN_mTrdEBNBv"
      },
      "execution_count": null,
      "outputs": []
    },
    {
      "cell_type": "markdown",
      "source": [
        "#Query for 1st dashboard"
      ],
      "metadata": {
        "id": "mnZGtQtfBM-N"
      }
    },
    {
      "cell_type": "code",
      "source": [
        "# Query table for the 1st dashboard\n",
        "query=\"\"\"\n",
        "SELECT\n",
        "  o.order_id,\n",
        "  o.quantity*i.item_price AS order_sales,\n",
        "  o.quantity,\n",
        "  i.item_cat,\n",
        "  i.item_name,\n",
        "  o.created_at,\n",
        "  a.delivery_address1,\n",
        "  -- a.delivery_address2, --no data in address 2\n",
        "  a.delivery_city,\n",
        "  a.delivery_zipcode,\n",
        "  o.delivery\n",
        "FROM orders o\n",
        "LEFT JOIN item i ON o.item_id=i.item_id\n",
        "LEFT JOIN address a ON o.add_id=a.add_id;\n",
        "\"\"\"\n",
        "result1=sql_query_to_pd(query,\"pizza_db\")"
      ],
      "metadata": {
        "id": "7C0zGRjsBM7C"
      },
      "execution_count": null,
      "outputs": []
    },
    {
      "cell_type": "code",
      "source": [
        "# Convert to appropriate data type\n",
        "result1['created_at']=pd.to_datetime(result1['created_at'],format=\"%d/%m/%Y %H:%M\")\n",
        "result1['delivery_zipcode']=result1['delivery_zipcode'].astype('str')"
      ],
      "metadata": {
        "id": "EIc2pR6JBM3q"
      },
      "execution_count": null,
      "outputs": []
    },
    {
      "cell_type": "code",
      "source": [
        "# Table for 1st dashboard \n",
        "print(result1)"
      ],
      "metadata": {
        "colab": {
          "base_uri": "https://localhost:8080/"
        },
        "id": "2pJWrKuqBM0R",
        "outputId": "635c1003-6213-4f3b-af26-93ea8c79892a"
      },
      "execution_count": null,
      "outputs": [
        {
          "output_type": "stream",
          "name": "stdout",
          "text": [
            "      order_id  order_sales  quantity item_cat                item_name  \\\n",
            "0          109           24         2    Pizza     Pizza Margherita Reg   \n",
            "1          109           24         2    Pizza     Pizza Margherita Reg   \n",
            "2          109           24         2    Pizza     Pizza Margherita Reg   \n",
            "3          109           24         2    Pizza     Pizza Margherita Reg   \n",
            "4          110           16         1    Pizza  Pizza Diavola (hot) Reg   \n",
            "...        ...          ...       ...      ...                      ...   \n",
            "2507       166            5         1  Dessert        Chocolate Brownie   \n",
            "2508       166            6         1    Drink   Coca Cola Regular 1.5l   \n",
            "2509       166            6         1    Drink   Coca Cola Regular 1.5l   \n",
            "2510       166            6         1    Drink   Coca Cola Regular 1.5l   \n",
            "2511       166            6         1    Drink   Coca Cola Regular 1.5l   \n",
            "\n",
            "              created_at    delivery_address1 delivery_city delivery_zipcode  \\\n",
            "0    2022-08-10 13:22:00  607 Trails End Road    Manchester             6042   \n",
            "1    2022-08-10 13:22:00  607 Trails End Road    Manchester             6042   \n",
            "2    2022-08-10 13:22:00  607 Trails End Road    Manchester             6042   \n",
            "3    2022-08-10 13:22:00  607 Trails End Road    Manchester             6042   \n",
            "4    2022-08-10 13:53:00   25 Cliffside Drive    Manchester             6042   \n",
            "...                  ...                  ...           ...              ...   \n",
            "2507 2022-08-10 14:22:00   91 Eldridge Street    Manchester             6040   \n",
            "2508 2022-08-10 14:22:00   91 Eldridge Street    Manchester             6040   \n",
            "2509 2022-08-10 14:22:00   91 Eldridge Street    Manchester             6040   \n",
            "2510 2022-08-10 14:22:00   91 Eldridge Street    Manchester             6040   \n",
            "2511 2022-08-10 14:22:00   91 Eldridge Street    Manchester             6040   \n",
            "\n",
            "      delivery  \n",
            "0            1  \n",
            "1            1  \n",
            "2            1  \n",
            "3            1  \n",
            "4            1  \n",
            "...        ...  \n",
            "2507         1  \n",
            "2508         1  \n",
            "2509         1  \n",
            "2510         1  \n",
            "2511         1  \n",
            "\n",
            "[2512 rows x 10 columns]\n"
          ]
        }
      ]
    }
  ]
}