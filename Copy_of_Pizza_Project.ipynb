{
  "nbformat": 4,
  "nbformat_minor": 0,
  "metadata": {
    "colab": {
      "provenance": [],
      "collapsed_sections": [
        "wE3urEK9A25Z"
      ],
      "toc_visible": true,
      "authorship_tag": "ABX9TyMTev36KQUjH30SEvyPw5mf",
      "include_colab_link": true
    },
    "kernelspec": {
      "name": "python3",
      "display_name": "Python 3"
    },
    "language_info": {
      "name": "python"
    }
  },
  "cells": [
    {
      "cell_type": "markdown",
      "metadata": {
        "id": "view-in-github",
        "colab_type": "text"
      },
      "source": [
        "<a href=\"https://colab.research.google.com/github/popo169/Portfolio-Project/blob/main/Copy_of_Pizza_Project.ipynb\" target=\"_parent\"><img src=\"https://colab.research.google.com/assets/colab-badge.svg\" alt=\"Open In Colab\"/></a>"
      ]
    },
    {
      "cell_type": "markdown",
      "source": [
        "#Introduction"
      ],
      "metadata": {
        "id": "cUgxnMi1amcf"
      }
    },
    {
      "cell_type": "markdown",
      "source": [
        "Business intelligence is very important nowadays. It helps you to know better of your company including how the sales recently, which item is going to out of stock and most importantly, what is the profit.\n",
        "\n",
        "In this project, I am going to demonstrate how to use data from a pizza shop along with SQL to create 3 dashboards for business intelligence."
      ],
      "metadata": {
        "id": "b8gyoO6hEEMK"
      }
    },
    {
      "cell_type": "markdown",
      "source": [
        "##Data content"
      ],
      "metadata": {
        "id": "QcPTqaoGEIYz"
      }
    },
    {
      "cell_type": "markdown",
      "source": [
        "There are 10 tables in the dataset.\n",
        "\n",
        "Table name | Content | Columns\n",
        "--- | --- | ---\n",
        "Address | Customers' address and zip code | 'add_id', 'delivery_address1', 'delivery_address2', 'delivery_city', 'delivery_zipcode'\n",
        "Customers | First and last name | 'cust_id', 'cust_firstname', 'cust_lastname'\n",
        "Ingredient | Ingredient name, weight, unit and price | 'ing_id', 'ing_name', 'ing_weight', 'ing_meas', 'ing_price'\n",
        "Inventory | Quantity of inventory | 'inv_id', 'item_id', 'quantity'\n",
        "Item | Item name, code, category, size and price | 'item_id', 'sku', 'item_name', 'item_cat', 'item_size', 'item_price'\n",
        "Orders | Order create time, item ordered, quantity, customer ID, delivery/pick up, address ID | 'row_id', 'order_id', 'created_at', 'item_id', 'quantity', 'cust_id', 'delivery', 'add_id'\n",
        "Recipe | Recipe ID, ingredient ID, required quantity | 'row_id', 'recipe_id', 'ing_id', 'quantity'\n",
        "Rota | Duty date, shift ID, staff ID | 'row_id', 'rota_id', 'date', 'shift_id', 'staff_id'\n",
        "Shift | Day of week, start time and end time | 'shift_id', 'day_of_week', 'start_time', 'end_time'\n",
        "Staff | Staff first and last name, position, hourly rate | 'staff_id', 'first_name', 'last_name', 'position', 'hourly_rate'"
      ],
      "metadata": {
        "id": "PwUnDFpPAqC6"
      }
    },
    {
      "cell_type": "markdown",
      "source": [
        "##Dashboard 1"
      ],
      "metadata": {
        "id": "M7ka5oBdEMjN"
      }
    },
    {
      "cell_type": "markdown",
      "source": [
        "This dashboard contains the basic information about the pizza shop. It tells whether the pizza shop is earning or losing money.\n",
        "1.   Total number of order\n",
        "2.   Total sales\n",
        "3.   Total item sold\n",
        "4.   Average order value\n",
        "5.   Sales by category\n",
        "6.   Top selling item\n",
        "7.   Orders by hour\n",
        "8.   Sales by hour\n",
        "9.   Orders by address\n",
        "10.  Orders by delivery/pick up"
      ],
      "metadata": {
        "id": "pmlRLHKeAyU1"
      }
    },
    {
      "cell_type": "markdown",
      "source": [
        "##Dashboard 2"
      ],
      "metadata": {
        "id": "wLaLYOLcEPL3"
      }
    },
    {
      "cell_type": "markdown",
      "source": [
        "The second dashboard is about the material cost and stock information to keep the pizza shop running.\n",
        "1.   Total quantity required for orders by ingredient\n",
        "2.   Total cost of ingredients for orders\n",
        "3.   Calculated cost of pizza\n",
        "4.   Percentage stock remaining by ingredient\n",
        "5.   List of ingredients to re-order based on remaining inventory"
      ],
      "metadata": {
        "id": "pavkftPyAsec"
      }
    },
    {
      "cell_type": "markdown",
      "source": [
        "##Dashboard 3"
      ],
      "metadata": {
        "id": "psmn0uV4ER3w"
      }
    },
    {
      "cell_type": "markdown",
      "source": [
        "The last dashboard is going to capture the human resource cost of the pizza shop.\n",
        "1.   Hours worked by staff member\n",
        "2.   Total hours worked\n",
        "3.   Cost per staff member\n",
        "4.   Total staff cost"
      ],
      "metadata": {
        "id": "24J6_Qb7A0ee"
      }
    },
    {
      "cell_type": "markdown",
      "source": [
        "##Import data"
      ],
      "metadata": {
        "id": "wE3urEK9A25Z"
      }
    },
    {
      "cell_type": "code",
      "source": [
        "# connect google drive\n",
        "from google.colab import drive\n",
        "drive.mount('/content/gdrive')"
      ],
      "metadata": {
        "colab": {
          "base_uri": "https://localhost:8080/"
        },
        "id": "TSoX3qdLBLRa",
        "outputId": "d2e564d7-0155-4989-efa3-65839a9a6b14"
      },
      "execution_count": null,
      "outputs": [
        {
          "output_type": "stream",
          "name": "stdout",
          "text": [
            "Drive already mounted at /content/gdrive; to attempt to forcibly remount, call drive.mount(\"/content/gdrive\", force_remount=True).\n"
          ]
        }
      ]
    },
    {
      "cell_type": "code",
      "source": [
        "# import library\n",
        "import sqlite3\n",
        "import pandas as pd\n",
        "import numpy as np"
      ],
      "metadata": {
        "id": "dOYIT7MzBNMN"
      },
      "execution_count": null,
      "outputs": []
    },
    {
      "cell_type": "code",
      "source": [
        "# define functions\n",
        "\n",
        "def pd_to_sqlDB(input_df: pd.DataFrame, table_name: str, db_name: str = 'default.db') -> None:\n",
        "\n",
        "    '''Take a Pandas dataframe `input_df` and upload it to `table_name` SQLITE table\n",
        "    Args:\n",
        "        input_df (pd.DataFrame): Dataframe containing data to upload to SQLITE\n",
        "        table_name (str): Name of the SQLITE table to upload to\n",
        "        db_name (str, optional): Name of the SQLITE Database in which the table is created. \n",
        "                                 Defaults to 'default.db'.\n",
        "    '''\n",
        "\n",
        "    # Step 1: Find columns in the dataframe\n",
        "    cols = input_df.columns\n",
        "    cols_string = ','.join(cols)\n",
        "    val_wildcard_string = ','.join(['?'] * len(cols))\n",
        "\n",
        "    # Step 2: Connect to a DB file if it exists, else crete a new file\n",
        "    con = sqlite3.connect(db_name)\n",
        "    cur = con.cursor()\n",
        "\n",
        "    # Step 3: Create Table\n",
        "    sql_string = f\"\"\"CREATE TABLE IF NOT EXISTS {table_name} ({cols_string});\"\"\"\n",
        "    cur.execute(sql_string)\n",
        "\n",
        "    # Step 4: Upload the dataframe\n",
        "    rows_to_upload = input_df.to_dict(orient='split')['data']\n",
        "    sql_string = f\"\"\"INSERT INTO {table_name} ({cols_string}) VALUES ({val_wildcard_string});\"\"\"    \n",
        "    cur.executemany(sql_string, rows_to_upload)\n",
        "  \n",
        "    # Step 5: Commit the changes and close the connection\n",
        "    con.commit()\n",
        "    con.close()\n",
        "\n",
        "\n",
        "\n",
        "def sql_query_to_pd(sql_query_string: str, db_name: str ='default.db') -> pd.DataFrame:\n",
        "    '''Execute an SQL query and return the results as a pandas dataframe\n",
        "    Args:\n",
        "        sql_query_string (str): SQL query string to execute\n",
        "        db_name (str, optional): Name of the SQLITE Database to execute the query in.\n",
        "                                 Defaults to 'default.db'.\n",
        "    Returns:\n",
        "        pd.DataFrame: Results of the SQL query in a pandas dataframe\n",
        "    '''    \n",
        "    # Step 1: Connect to the SQL DB\n",
        "    con = sqlite3.connect(db_name)\n",
        "\n",
        "    # Step 2: Execute the SQL query\n",
        "    cursor = con.execute(sql_query_string)\n",
        "\n",
        "    # Step 3: Fetch the data and column names\n",
        "    result_data = cursor.fetchall()\n",
        "    cols = [description[0] for description in cursor.description]\n",
        "\n",
        "    # Step 4: Close the connection\n",
        "    con.close()\n",
        "\n",
        "    # Step 5: Return as a dataframe\n",
        "    return pd.DataFrame(result_data, columns=cols)"
      ],
      "metadata": {
        "id": "iBpNT3uuBNIs"
      },
      "execution_count": null,
      "outputs": []
    },
    {
      "cell_type": "code",
      "source": [
        "# import data\n",
        "address=pd.read_csv('/content/gdrive/My Drive/dataset/SQL/pizza_proj/address.csv')\n",
        "customers=pd.read_csv('/content/gdrive/My Drive/dataset/SQL/pizza_proj/customers.csv')\n",
        "ingredient=pd.read_csv('/content/gdrive/My Drive/dataset/SQL/pizza_proj/ingredient.csv')\n",
        "inventory=pd.read_csv('/content/gdrive/My Drive/dataset/SQL/pizza_proj/inventory.csv')\n",
        "item=pd.read_csv('/content/gdrive/My Drive/dataset/SQL/pizza_proj/item.csv')\n",
        "orders=pd.read_csv('/content/gdrive/My Drive/dataset/SQL/pizza_proj/orders.csv')\n",
        "recipe=pd.read_csv('/content/gdrive/My Drive/dataset/SQL/pizza_proj/recipe.csv')\n",
        "rota=pd.read_csv('/content/gdrive/My Drive/dataset/SQL/pizza_proj/rota.csv')\n",
        "shift=pd.read_csv('/content/gdrive/My Drive/dataset/SQL/pizza_proj/shift.csv')\n",
        "staff=pd.read_csv('/content/gdrive/My Drive/dataset/SQL/pizza_proj/staff.csv')"
      ],
      "metadata": {
        "id": "_H2UlVeZBNFO"
      },
      "execution_count": null,
      "outputs": []
    },
    {
      "cell_type": "code",
      "source": [
        "# import data to sql tables\n",
        "pd_to_sqlDB(address,\"address\",\"pizza_db\")\n",
        "pd_to_sqlDB(customers,\"customers\",\"pizza_db\")\n",
        "pd_to_sqlDB(ingredient,\"ingredient\",\"pizza_db\")\n",
        "pd_to_sqlDB(inventory,\"inventory\",\"pizza_db\")\n",
        "pd_to_sqlDB(item,\"item\",\"pizza_db\")\n",
        "pd_to_sqlDB(orders,\"orders\",\"pizza_db\")\n",
        "pd_to_sqlDB(recipe,\"recipe\",\"pizza_db\")\n",
        "pd_to_sqlDB(rota,\"rota\",\"pizza_db\")\n",
        "pd_to_sqlDB(shift,\"shift\",\"pizza_db\")\n",
        "pd_to_sqlDB(staff,\"staff\",\"pizza_db\")"
      ],
      "metadata": {
        "id": "PN_mTrdEBNBv"
      },
      "execution_count": null,
      "outputs": []
    },
    {
      "cell_type": "markdown",
      "source": [
        "#Query for 1st dashboard"
      ],
      "metadata": {
        "id": "mnZGtQtfBM-N"
      }
    },
    {
      "cell_type": "code",
      "source": [
        "# Query table for the 1st dashboard\n",
        "query=\"\"\"\n",
        "SELECT\n",
        "  o.order_id,\n",
        "  o.quantity*i.item_price AS order_sales,\n",
        "  o.quantity,\n",
        "  i.item_cat,\n",
        "  i.item_name,\n",
        "  o.created_at,\n",
        "  a.delivery_address1,\n",
        "  -- a.delivery_address2, --no data in address 2\n",
        "  a.delivery_city,\n",
        "  a.delivery_zipcode,\n",
        "  o.delivery\n",
        "FROM orders o\n",
        "LEFT JOIN item i ON o.item_id=i.item_id\n",
        "LEFT JOIN address a ON o.add_id=a.add_id;\n",
        "\"\"\"\n",
        "result1=sql_query_to_pd(query,\"pizza_db\")"
      ],
      "metadata": {
        "id": "7C0zGRjsBM7C"
      },
      "execution_count": null,
      "outputs": []
    },
    {
      "cell_type": "code",
      "source": [
        "# Convert to appropriate data type\n",
        "result1['created_at']=pd.to_datetime(result1['created_at'],format=\"%d/%m/%Y %H:%M\")\n",
        "result1['delivery_zipcode']=result1['delivery_zipcode'].astype('str')"
      ],
      "metadata": {
        "id": "EIc2pR6JBM3q"
      },
      "execution_count": null,
      "outputs": []
    },
    {
      "cell_type": "code",
      "source": [
        "# Table for 1st dashboard \n",
        "result1"
      ],
      "metadata": {
        "colab": {
          "base_uri": "https://localhost:8080/",
          "height": 641
        },
        "id": "2pJWrKuqBM0R",
        "outputId": "bdc3942f-8fbb-431b-c236-e3c5106522dd"
      },
      "execution_count": null,
      "outputs": [
        {
          "output_type": "execute_result",
          "data": {
            "text/plain": [
              "      order_id  order_sales  quantity item_cat                item_name  \\\n",
              "0          109           24         2    Pizza     Pizza Margherita Reg   \n",
              "1          109           24         2    Pizza     Pizza Margherita Reg   \n",
              "2          109           24         2    Pizza     Pizza Margherita Reg   \n",
              "3          109           24         2    Pizza     Pizza Margherita Reg   \n",
              "4          110           16         1    Pizza  Pizza Diavola (hot) Reg   \n",
              "...        ...          ...       ...      ...                      ...   \n",
              "2507       166            5         1  Dessert        Chocolate Brownie   \n",
              "2508       166            6         1    Drink   Coca Cola Regular 1.5l   \n",
              "2509       166            6         1    Drink   Coca Cola Regular 1.5l   \n",
              "2510       166            6         1    Drink   Coca Cola Regular 1.5l   \n",
              "2511       166            6         1    Drink   Coca Cola Regular 1.5l   \n",
              "\n",
              "              created_at    delivery_address1 delivery_city delivery_zipcode  \\\n",
              "0    2022-08-10 13:22:00  607 Trails End Road    Manchester             6042   \n",
              "1    2022-08-10 13:22:00  607 Trails End Road    Manchester             6042   \n",
              "2    2022-08-10 13:22:00  607 Trails End Road    Manchester             6042   \n",
              "3    2022-08-10 13:22:00  607 Trails End Road    Manchester             6042   \n",
              "4    2022-08-10 13:53:00   25 Cliffside Drive    Manchester             6042   \n",
              "...                  ...                  ...           ...              ...   \n",
              "2507 2022-08-10 14:22:00   91 Eldridge Street    Manchester             6040   \n",
              "2508 2022-08-10 14:22:00   91 Eldridge Street    Manchester             6040   \n",
              "2509 2022-08-10 14:22:00   91 Eldridge Street    Manchester             6040   \n",
              "2510 2022-08-10 14:22:00   91 Eldridge Street    Manchester             6040   \n",
              "2511 2022-08-10 14:22:00   91 Eldridge Street    Manchester             6040   \n",
              "\n",
              "      delivery  \n",
              "0            1  \n",
              "1            1  \n",
              "2            1  \n",
              "3            1  \n",
              "4            1  \n",
              "...        ...  \n",
              "2507         1  \n",
              "2508         1  \n",
              "2509         1  \n",
              "2510         1  \n",
              "2511         1  \n",
              "\n",
              "[2512 rows x 10 columns]"
            ],
            "text/html": [
              "\n",
              "  <div id=\"df-613f1072-3945-4236-b6ae-b0b9166e0e22\">\n",
              "    <div class=\"colab-df-container\">\n",
              "      <div>\n",
              "<style scoped>\n",
              "    .dataframe tbody tr th:only-of-type {\n",
              "        vertical-align: middle;\n",
              "    }\n",
              "\n",
              "    .dataframe tbody tr th {\n",
              "        vertical-align: top;\n",
              "    }\n",
              "\n",
              "    .dataframe thead th {\n",
              "        text-align: right;\n",
              "    }\n",
              "</style>\n",
              "<table border=\"1\" class=\"dataframe\">\n",
              "  <thead>\n",
              "    <tr style=\"text-align: right;\">\n",
              "      <th></th>\n",
              "      <th>order_id</th>\n",
              "      <th>order_sales</th>\n",
              "      <th>quantity</th>\n",
              "      <th>item_cat</th>\n",
              "      <th>item_name</th>\n",
              "      <th>created_at</th>\n",
              "      <th>delivery_address1</th>\n",
              "      <th>delivery_city</th>\n",
              "      <th>delivery_zipcode</th>\n",
              "      <th>delivery</th>\n",
              "    </tr>\n",
              "  </thead>\n",
              "  <tbody>\n",
              "    <tr>\n",
              "      <th>0</th>\n",
              "      <td>109</td>\n",
              "      <td>24</td>\n",
              "      <td>2</td>\n",
              "      <td>Pizza</td>\n",
              "      <td>Pizza Margherita Reg</td>\n",
              "      <td>2022-08-10 13:22:00</td>\n",
              "      <td>607 Trails End Road</td>\n",
              "      <td>Manchester</td>\n",
              "      <td>6042</td>\n",
              "      <td>1</td>\n",
              "    </tr>\n",
              "    <tr>\n",
              "      <th>1</th>\n",
              "      <td>109</td>\n",
              "      <td>24</td>\n",
              "      <td>2</td>\n",
              "      <td>Pizza</td>\n",
              "      <td>Pizza Margherita Reg</td>\n",
              "      <td>2022-08-10 13:22:00</td>\n",
              "      <td>607 Trails End Road</td>\n",
              "      <td>Manchester</td>\n",
              "      <td>6042</td>\n",
              "      <td>1</td>\n",
              "    </tr>\n",
              "    <tr>\n",
              "      <th>2</th>\n",
              "      <td>109</td>\n",
              "      <td>24</td>\n",
              "      <td>2</td>\n",
              "      <td>Pizza</td>\n",
              "      <td>Pizza Margherita Reg</td>\n",
              "      <td>2022-08-10 13:22:00</td>\n",
              "      <td>607 Trails End Road</td>\n",
              "      <td>Manchester</td>\n",
              "      <td>6042</td>\n",
              "      <td>1</td>\n",
              "    </tr>\n",
              "    <tr>\n",
              "      <th>3</th>\n",
              "      <td>109</td>\n",
              "      <td>24</td>\n",
              "      <td>2</td>\n",
              "      <td>Pizza</td>\n",
              "      <td>Pizza Margherita Reg</td>\n",
              "      <td>2022-08-10 13:22:00</td>\n",
              "      <td>607 Trails End Road</td>\n",
              "      <td>Manchester</td>\n",
              "      <td>6042</td>\n",
              "      <td>1</td>\n",
              "    </tr>\n",
              "    <tr>\n",
              "      <th>4</th>\n",
              "      <td>110</td>\n",
              "      <td>16</td>\n",
              "      <td>1</td>\n",
              "      <td>Pizza</td>\n",
              "      <td>Pizza Diavola (hot) Reg</td>\n",
              "      <td>2022-08-10 13:53:00</td>\n",
              "      <td>25 Cliffside Drive</td>\n",
              "      <td>Manchester</td>\n",
              "      <td>6042</td>\n",
              "      <td>1</td>\n",
              "    </tr>\n",
              "    <tr>\n",
              "      <th>...</th>\n",
              "      <td>...</td>\n",
              "      <td>...</td>\n",
              "      <td>...</td>\n",
              "      <td>...</td>\n",
              "      <td>...</td>\n",
              "      <td>...</td>\n",
              "      <td>...</td>\n",
              "      <td>...</td>\n",
              "      <td>...</td>\n",
              "      <td>...</td>\n",
              "    </tr>\n",
              "    <tr>\n",
              "      <th>2507</th>\n",
              "      <td>166</td>\n",
              "      <td>5</td>\n",
              "      <td>1</td>\n",
              "      <td>Dessert</td>\n",
              "      <td>Chocolate Brownie</td>\n",
              "      <td>2022-08-10 14:22:00</td>\n",
              "      <td>91 Eldridge Street</td>\n",
              "      <td>Manchester</td>\n",
              "      <td>6040</td>\n",
              "      <td>1</td>\n",
              "    </tr>\n",
              "    <tr>\n",
              "      <th>2508</th>\n",
              "      <td>166</td>\n",
              "      <td>6</td>\n",
              "      <td>1</td>\n",
              "      <td>Drink</td>\n",
              "      <td>Coca Cola Regular 1.5l</td>\n",
              "      <td>2022-08-10 14:22:00</td>\n",
              "      <td>91 Eldridge Street</td>\n",
              "      <td>Manchester</td>\n",
              "      <td>6040</td>\n",
              "      <td>1</td>\n",
              "    </tr>\n",
              "    <tr>\n",
              "      <th>2509</th>\n",
              "      <td>166</td>\n",
              "      <td>6</td>\n",
              "      <td>1</td>\n",
              "      <td>Drink</td>\n",
              "      <td>Coca Cola Regular 1.5l</td>\n",
              "      <td>2022-08-10 14:22:00</td>\n",
              "      <td>91 Eldridge Street</td>\n",
              "      <td>Manchester</td>\n",
              "      <td>6040</td>\n",
              "      <td>1</td>\n",
              "    </tr>\n",
              "    <tr>\n",
              "      <th>2510</th>\n",
              "      <td>166</td>\n",
              "      <td>6</td>\n",
              "      <td>1</td>\n",
              "      <td>Drink</td>\n",
              "      <td>Coca Cola Regular 1.5l</td>\n",
              "      <td>2022-08-10 14:22:00</td>\n",
              "      <td>91 Eldridge Street</td>\n",
              "      <td>Manchester</td>\n",
              "      <td>6040</td>\n",
              "      <td>1</td>\n",
              "    </tr>\n",
              "    <tr>\n",
              "      <th>2511</th>\n",
              "      <td>166</td>\n",
              "      <td>6</td>\n",
              "      <td>1</td>\n",
              "      <td>Drink</td>\n",
              "      <td>Coca Cola Regular 1.5l</td>\n",
              "      <td>2022-08-10 14:22:00</td>\n",
              "      <td>91 Eldridge Street</td>\n",
              "      <td>Manchester</td>\n",
              "      <td>6040</td>\n",
              "      <td>1</td>\n",
              "    </tr>\n",
              "  </tbody>\n",
              "</table>\n",
              "<p>2512 rows × 10 columns</p>\n",
              "</div>\n",
              "      <button class=\"colab-df-convert\" onclick=\"convertToInteractive('df-613f1072-3945-4236-b6ae-b0b9166e0e22')\"\n",
              "              title=\"Convert this dataframe to an interactive table.\"\n",
              "              style=\"display:none;\">\n",
              "        \n",
              "  <svg xmlns=\"http://www.w3.org/2000/svg\" height=\"24px\"viewBox=\"0 0 24 24\"\n",
              "       width=\"24px\">\n",
              "    <path d=\"M0 0h24v24H0V0z\" fill=\"none\"/>\n",
              "    <path d=\"M18.56 5.44l.94 2.06.94-2.06 2.06-.94-2.06-.94-.94-2.06-.94 2.06-2.06.94zm-11 1L8.5 8.5l.94-2.06 2.06-.94-2.06-.94L8.5 2.5l-.94 2.06-2.06.94zm10 10l.94 2.06.94-2.06 2.06-.94-2.06-.94-.94-2.06-.94 2.06-2.06.94z\"/><path d=\"M17.41 7.96l-1.37-1.37c-.4-.4-.92-.59-1.43-.59-.52 0-1.04.2-1.43.59L10.3 9.45l-7.72 7.72c-.78.78-.78 2.05 0 2.83L4 21.41c.39.39.9.59 1.41.59.51 0 1.02-.2 1.41-.59l7.78-7.78 2.81-2.81c.8-.78.8-2.07 0-2.86zM5.41 20L4 18.59l7.72-7.72 1.47 1.35L5.41 20z\"/>\n",
              "  </svg>\n",
              "      </button>\n",
              "      \n",
              "  <style>\n",
              "    .colab-df-container {\n",
              "      display:flex;\n",
              "      flex-wrap:wrap;\n",
              "      gap: 12px;\n",
              "    }\n",
              "\n",
              "    .colab-df-convert {\n",
              "      background-color: #E8F0FE;\n",
              "      border: none;\n",
              "      border-radius: 50%;\n",
              "      cursor: pointer;\n",
              "      display: none;\n",
              "      fill: #1967D2;\n",
              "      height: 32px;\n",
              "      padding: 0 0 0 0;\n",
              "      width: 32px;\n",
              "    }\n",
              "\n",
              "    .colab-df-convert:hover {\n",
              "      background-color: #E2EBFA;\n",
              "      box-shadow: 0px 1px 2px rgba(60, 64, 67, 0.3), 0px 1px 3px 1px rgba(60, 64, 67, 0.15);\n",
              "      fill: #174EA6;\n",
              "    }\n",
              "\n",
              "    [theme=dark] .colab-df-convert {\n",
              "      background-color: #3B4455;\n",
              "      fill: #D2E3FC;\n",
              "    }\n",
              "\n",
              "    [theme=dark] .colab-df-convert:hover {\n",
              "      background-color: #434B5C;\n",
              "      box-shadow: 0px 1px 3px 1px rgba(0, 0, 0, 0.15);\n",
              "      filter: drop-shadow(0px 1px 2px rgba(0, 0, 0, 0.3));\n",
              "      fill: #FFFFFF;\n",
              "    }\n",
              "  </style>\n",
              "\n",
              "      <script>\n",
              "        const buttonEl =\n",
              "          document.querySelector('#df-613f1072-3945-4236-b6ae-b0b9166e0e22 button.colab-df-convert');\n",
              "        buttonEl.style.display =\n",
              "          google.colab.kernel.accessAllowed ? 'block' : 'none';\n",
              "\n",
              "        async function convertToInteractive(key) {\n",
              "          const element = document.querySelector('#df-613f1072-3945-4236-b6ae-b0b9166e0e22');\n",
              "          const dataTable =\n",
              "            await google.colab.kernel.invokeFunction('convertToInteractive',\n",
              "                                                     [key], {});\n",
              "          if (!dataTable) return;\n",
              "\n",
              "          const docLinkHtml = 'Like what you see? Visit the ' +\n",
              "            '<a target=\"_blank\" href=https://colab.research.google.com/notebooks/data_table.ipynb>data table notebook</a>'\n",
              "            + ' to learn more about interactive tables.';\n",
              "          element.innerHTML = '';\n",
              "          dataTable['output_type'] = 'display_data';\n",
              "          await google.colab.output.renderOutput(dataTable, element);\n",
              "          const docLink = document.createElement('div');\n",
              "          docLink.innerHTML = docLinkHtml;\n",
              "          element.appendChild(docLink);\n",
              "        }\n",
              "      </script>\n",
              "    </div>\n",
              "  </div>\n",
              "  "
            ]
          },
          "metadata": {},
          "execution_count": 39
        }
      ]
    },
    {
      "cell_type": "markdown",
      "source": [
        "##Dashboard 1"
      ],
      "metadata": {
        "id": "4m8zq_glEa8V"
      }
    },
    {
      "cell_type": "markdown",
      "source": [
        "This dashboard contains the basic information about the pizza shop. It tells whether the pizza shop is earning or losing money.\n",
        "1.   Total number of order\n",
        "2.   Total sales\n",
        "3.   Total item sold\n",
        "4.   Average order value\n",
        "5.   Sales by category\n",
        "6.   Top selling item\n",
        "7.   Orders by hour\n",
        "8.   Sales by hour\n",
        "9.   Orders by address\n",
        "10.  Orders by delivery/pick up"
      ],
      "metadata": {
        "id": "7pMYqrFhEa8V"
      }
    },
    {
      "cell_type": "markdown",
      "source": [
        "##1. Total orders"
      ],
      "metadata": {
        "id": "oBWjPRMsBMtw"
      }
    },
    {
      "cell_type": "code",
      "source": [
        "ttl_no_order=len(result1['order_id'].unique())\n",
        "print(f'The total number of order is {ttl_no_order}')"
      ],
      "metadata": {
        "colab": {
          "base_uri": "https://localhost:8080/"
        },
        "id": "II0EsgPCBMqo",
        "outputId": "4785fb7e-1008-473e-b600-89e5d6d4998a"
      },
      "execution_count": null,
      "outputs": [
        {
          "output_type": "stream",
          "name": "stdout",
          "text": [
            "The total number of order is 58\n"
          ]
        }
      ]
    },
    {
      "cell_type": "markdown",
      "source": [
        "##2. Total sales"
      ],
      "metadata": {
        "id": "im5EwiW5BMnH"
      }
    },
    {
      "cell_type": "code",
      "source": [
        "ttl_sales=sum(result1['order_sales'])\n",
        "print(f'The total sales is ${ttl_sales}')"
      ],
      "metadata": {
        "colab": {
          "base_uri": "https://localhost:8080/"
        },
        "id": "CFyjeJuqBMj9",
        "outputId": "8b931eab-cbf9-4bef-a15f-ad294ac8c452"
      },
      "execution_count": null,
      "outputs": [
        {
          "output_type": "stream",
          "name": "stdout",
          "text": [
            "The total sales is $47736\n"
          ]
        }
      ]
    },
    {
      "cell_type": "markdown",
      "source": [
        "##3. Total item sold"
      ],
      "metadata": {
        "id": "YY7IXX2OBMgk"
      }
    },
    {
      "cell_type": "code",
      "source": [
        "ttl_item_sold=sum(result1['quantity'])\n",
        "print(f'The total item sold is {ttl_item_sold}')"
      ],
      "metadata": {
        "colab": {
          "base_uri": "https://localhost:8080/"
        },
        "id": "qhCerETdBMdN",
        "outputId": "a09edce0-e504-4f9c-fff9-eab3b7dbad13"
      },
      "execution_count": null,
      "outputs": [
        {
          "output_type": "stream",
          "name": "stdout",
          "text": [
            "The total item sold is 5008\n"
          ]
        }
      ]
    },
    {
      "cell_type": "markdown",
      "source": [
        "##4. Average order value"
      ],
      "metadata": {
        "id": "_DZu3fNpBkHj"
      }
    },
    {
      "cell_type": "code",
      "source": [
        "avg_order_val=result1.groupby(['order_id'])['order_sales'].sum().mean()\n",
        "print(f'The average order value is ${avg_order_val:.2f}')"
      ],
      "metadata": {
        "colab": {
          "base_uri": "https://localhost:8080/"
        },
        "id": "0XOsZmhaBkEn",
        "outputId": "0c7b3f22-6fde-4a8b-e064-e198128e9f2b"
      },
      "execution_count": null,
      "outputs": [
        {
          "output_type": "stream",
          "name": "stdout",
          "text": [
            "The average order value is $823.03\n"
          ]
        }
      ]
    },
    {
      "cell_type": "markdown",
      "source": [
        "##5. Sales by category"
      ],
      "metadata": {
        "id": "oKxM8xsUBkBe"
      }
    },
    {
      "cell_type": "code",
      "source": [
        "sales_by_cat=result1.groupby(['item_cat'])['order_sales'].sum().to_frame().sort_values('order_sales',ascending=False)\n",
        "print(f'The average order value is \\n',sales_by_cat)"
      ],
      "metadata": {
        "colab": {
          "base_uri": "https://localhost:8080/"
        },
        "id": "0kUZp9oIBj-X",
        "outputId": "959cf610-415e-4a86-d19d-50541f876795"
      },
      "execution_count": null,
      "outputs": [
        {
          "output_type": "stream",
          "name": "stdout",
          "text": [
            "The average order value is \n",
            "           order_sales\n",
            "item_cat             \n",
            "Pizza           30528\n",
            "Dessert          7320\n",
            "Side             6408\n",
            "Drink            3480\n"
          ]
        }
      ]
    },
    {
      "cell_type": "markdown",
      "source": [
        "##6. Top selling item"
      ],
      "metadata": {
        "id": "Gs51o-BwBj7T"
      }
    },
    {
      "cell_type": "code",
      "source": [
        "top_item=result1.groupby(['item_name'])['order_sales'].sum().idxmax()\n",
        "print(f'The top selling item is {top_item}')"
      ],
      "metadata": {
        "colab": {
          "base_uri": "https://localhost:8080/"
        },
        "id": "eKmNJTheBj4S",
        "outputId": "6862e6f8-4821-4b54-8964-cb0f1d790654"
      },
      "execution_count": null,
      "outputs": [
        {
          "output_type": "stream",
          "name": "stdout",
          "text": [
            "The top selling item is Pizza Quattro Formaggi Large\n"
          ]
        }
      ]
    },
    {
      "cell_type": "markdown",
      "source": [
        "##7. Order by hour"
      ],
      "metadata": {
        "id": "crG4de0sBj1k"
      }
    },
    {
      "cell_type": "code",
      "source": [
        "order_by_hour=result1.groupby(result1['created_at'].dt.hour)['order_id'].count().to_frame('count').rename_axis('hour')\n",
        "print(f'The order by hour is\\n',order_by_hour)"
      ],
      "metadata": {
        "colab": {
          "base_uri": "https://localhost:8080/"
        },
        "id": "WK8TPu68BuDH",
        "outputId": "7dfd7f3a-bed5-43ea-9b92-e7584c9260ba"
      },
      "execution_count": null,
      "outputs": [
        {
          "output_type": "stream",
          "name": "stdout",
          "text": [
            "The order by hour is\n",
            "       count\n",
            "hour       \n",
            "12      240\n",
            "13      768\n",
            "14       88\n",
            "18      120\n",
            "19      536\n",
            "20      296\n",
            "21      224\n",
            "22      240\n"
          ]
        }
      ]
    },
    {
      "cell_type": "markdown",
      "source": [
        "##8. Sales by hour"
      ],
      "metadata": {
        "id": "nQBcgiQjBjyy"
      }
    },
    {
      "cell_type": "code",
      "source": [
        "sales_by_hour=result1.groupby(result1['created_at'].dt.hour)['order_sales'].sum().to_frame('sales').rename_axis('hour')\n",
        "print(f'The sales by hour is\\n',sales_by_hour)"
      ],
      "metadata": {
        "colab": {
          "base_uri": "https://localhost:8080/"
        },
        "id": "FIa07PLYBjv0",
        "outputId": "de8a6e1b-0a77-49c5-d2db-082dbb0670d5"
      },
      "execution_count": null,
      "outputs": [
        {
          "output_type": "stream",
          "name": "stdout",
          "text": [
            "The sales by hour is\n",
            "       sales\n",
            "hour       \n",
            "12     3896\n",
            "13    11192\n",
            "14      728\n",
            "18     3352\n",
            "19    12416\n",
            "20     4536\n",
            "21     3760\n",
            "22     7856\n"
          ]
        }
      ]
    },
    {
      "cell_type": "markdown",
      "source": [
        "##9. Order by address"
      ],
      "metadata": {
        "id": "9atfP6_gBjsx"
      }
    },
    {
      "cell_type": "code",
      "source": [
        "order_by_address=result1['delivery_address1'].value_counts().to_frame('count').rename_axis('address')\n",
        "print(f'The order by address is\\n',order_by_address)"
      ],
      "metadata": {
        "colab": {
          "base_uri": "https://localhost:8080/"
        },
        "id": "K4I0FK0wBMZv",
        "outputId": "98402f9e-8289-436c-aed3-75fafb411db4"
      },
      "execution_count": null,
      "outputs": [
        {
          "output_type": "stream",
          "name": "stdout",
          "text": [
            "The order by address is\n",
            "                             count\n",
            "address                          \n",
            "150 Carter Street             136\n",
            "68 Princeton Street            96\n",
            "18 Cambridge Street            96\n",
            "125 Summer Street              88\n",
            "425 Middle Turnpike East       72\n",
            "95 Briarwood Drive             72\n",
            "60 Desousa Drive               72\n",
            "61 Plymouth Lane               72\n",
            "697 Parker Street              72\n",
            "29 Lucian Street               64\n",
            "89 High Ledge Circle           56\n",
            "44 Downey Drive                56\n",
            "123 Elizabeth Drive            56\n",
            "211 Oak Street                 56\n",
            "145 Saint John Street          56\n",
            "86 Highland Street             48\n",
            "22 Star Farms Drive            48\n",
            "61 Hills Street                48\n",
            "225 Kennedy Road               48\n",
            "184 Woodland Street            48\n",
            "126 Garth Road                 48\n",
            "65 Arcellia Drive              48\n",
            "34 Holyoke Road                40\n",
            "4 Orchard Street               40\n",
            "25 Edwards Street              40\n",
            "117 Adelaide Road              40\n",
            "310 Timrod Road                40\n",
            "159 Adams Street               40\n",
            "265 Slater Street              40\n",
            "21 Carver Lane                 40\n",
            "82 Lookout Mountain Drive      40\n",
            "35 Lakewood Circle South       40\n",
            "44 Campfield Road              32\n",
            "173 Center Street              32\n",
            "119 Redwood Road               32\n",
            "91 Eldridge Street             32\n",
            "126 Marjorie Lane              32\n",
            "13 Riverview Avenue            32\n",
            "66 Pine Street                 32\n",
            "31 Buckland Hills Drive        32\n",
            "194 Buckland Hills Drive       32\n",
            "236 Middle Turnpike East       32\n",
            "175 Oak Street                 32\n",
            "736 Middle Turnpike East       32\n",
            "16 Ambassador Drive            32\n",
            "207 Spruce Street              32\n",
            "46 Lilac Street                24\n",
            "138 Bolton Street              24\n",
            "31 Ashworth Street             24\n",
            "208 Timrod Road                24\n",
            "981 Groton Long Point Road     24\n",
            "44 Colonial Road               24\n",
            "219 Bidwell Street             16\n",
            "56 Concord Road                16\n",
            "115 Waddell Road                8\n",
            "25 Cliffside Drive              8\n",
            "38 Bruce Road                   8\n",
            "607 Trails End Road             8\n"
          ]
        }
      ]
    },
    {
      "cell_type": "markdown",
      "source": [
        "##10. Order by delivery/pick up"
      ],
      "metadata": {
        "id": "XEczjcktBMWN"
      }
    },
    {
      "cell_type": "code",
      "source": [
        "order_by_delivery=result1['delivery'].value_counts().to_frame('count').rename_axis('delivery(1)/pick up(0)')\n",
        "print(f'The order by delivery/pick up is\\n',order_by_delivery)"
      ],
      "metadata": {
        "colab": {
          "base_uri": "https://localhost:8080/"
        },
        "id": "8uQLgU-GBMSk",
        "outputId": "62d5b494-1dae-4034-de00-16804628fcd7"
      },
      "execution_count": null,
      "outputs": [
        {
          "output_type": "stream",
          "name": "stdout",
          "text": [
            "The order by delivery/pick up is\n",
            "                         count\n",
            "delivery(1)/pick up(0)       \n",
            "1                        1912\n",
            "0                         600\n"
          ]
        }
      ]
    },
    {
      "cell_type": "markdown",
      "source": [
        "#Query for 2nd dashboard"
      ],
      "metadata": {
        "id": "0Y7c422_BMPV"
      }
    },
    {
      "cell_type": "code",
      "source": [
        "# Query table for the 2nd dashboard\n",
        "query=\"\"\"\n",
        "SELECT\n",
        "  sub1.item_name,\n",
        "  sub1.ing_id,\n",
        "  sub1.ing_name,\n",
        "  sub1.ing_weight,\n",
        "  sub1.ing_price,\n",
        "  sub1.order_quan,\n",
        "  sub1.rep_quan,\n",
        "  sub1.order_quan*sub1.rep_quan AS quantity_required,\n",
        "  sub1.ing_price/sub1.ing_weight AS unit_cost,\n",
        "  (sub1.order_quan*sub1.rep_quan)*(sub1.ing_price/sub1.ing_weight) AS ingredient_cost\n",
        "FROM\n",
        "    (SELECT\n",
        "      o.item_id,\n",
        "      rep.recipe_id,\n",
        "      i.item_name,\n",
        "      rep.ing_id,\n",
        "      ing.ing_name,\n",
        "      SUM(o.quantity)  AS order_quan,\n",
        "      rep.quantity AS rep_quan,\n",
        "      ing.ing_price,\n",
        "      ing.ing_weight\n",
        "    FROM orders o\n",
        "    LEFT JOIN item i ON o.item_id=i.item_id\n",
        "    LEFT JOIN recipe rep ON i.sku=rep.recipe_id\n",
        "    LEFT JOIN ingredient ing ON rep.ing_id=ing.ing_id\n",
        "    GROUP BY\n",
        "      o.item_id, \n",
        "      rep.recipe_id, \n",
        "      i.item_name,\n",
        "      rep.ing_id,\n",
        "      rep.quantity,\n",
        "      ing.ing_name,\n",
        "      ing.ing_weight,\n",
        "      ing.ing_price) sub1;\n",
        "\"\"\"\n",
        "result2=sql_query_to_pd(query,\"pizza_db\")\n",
        "result2['item_cost']=result2['rep_quan']*result2['unit_cost']\n",
        "result2"
      ],
      "metadata": {
        "colab": {
          "base_uri": "https://localhost:8080/",
          "height": 606
        },
        "id": "6dPrD24GBMMc",
        "outputId": "b282dccb-8c1c-4131-97bd-4f7a63776471"
      },
      "execution_count": null,
      "outputs": [
        {
          "output_type": "execute_result",
          "data": {
            "text/plain": [
              "                  item_name  ing_id                   ing_name  ing_weight  \\\n",
              "0      Pizza Margherita Reg  ING001  Pizza dough ball (8 pack)        2000   \n",
              "1      Pizza Margherita Reg  ING002              Tomato sauce         4500   \n",
              "2      Pizza Margherita Reg  ING003          Mozzarella cheese        2500   \n",
              "3      Pizza Margherita Reg  ING004              Dried oregano         500   \n",
              "4    Pizza Margherita Large  ING001  Pizza dough ball (8 pack)        2000   \n",
              "..                      ...     ...                        ...         ...   \n",
              "104         Fanta Diet 1.5l  ING043            Fanta Diet 1.5l           1   \n",
              "105     San Pelligrino 33cl  ING044        San Pelligrino 33cl           1   \n",
              "106     San Pelligrino 1.5l  ING045        San Pelligrino 1.5l           1   \n",
              "107            Perrier 33cl  ING046               Perrier 33cl           1   \n",
              "108            Perrier 1.5l  ING047               Perrier 1.5l           1   \n",
              "\n",
              "     ing_price  order_quan  rep_quan  quantity_required  unit_cost  \\\n",
              "0         4.22         288       250              72000   0.002110   \n",
              "1         3.89         288        80              23040   0.000864   \n",
              "2        14.45         288       170              48960   0.005780   \n",
              "3         5.99         288         5               1440   0.011980   \n",
              "4         4.22         112       300              33600   0.002110   \n",
              "..         ...         ...       ...                ...        ...   \n",
              "104       0.96          32         1                 32   0.960000   \n",
              "105       0.36          64         1                 64   0.360000   \n",
              "106       0.86         144         1                144   0.860000   \n",
              "107       0.36          48         1                 48   0.360000   \n",
              "108       0.86         160         1                160   0.860000   \n",
              "\n",
              "     ingredient_cost  item_cost  \n",
              "0           151.9200   0.527500  \n",
              "1            19.9168   0.069156  \n",
              "2           282.9888   0.982600  \n",
              "3            17.2512   0.059900  \n",
              "4            70.8960   0.633000  \n",
              "..               ...        ...  \n",
              "104          30.7200   0.960000  \n",
              "105          23.0400   0.360000  \n",
              "106         123.8400   0.860000  \n",
              "107          17.2800   0.360000  \n",
              "108         137.6000   0.860000  \n",
              "\n",
              "[109 rows x 11 columns]"
            ],
            "text/html": [
              "\n",
              "  <div id=\"df-39eef088-cec5-42c5-83c3-ea7c2e9f1c75\">\n",
              "    <div class=\"colab-df-container\">\n",
              "      <div>\n",
              "<style scoped>\n",
              "    .dataframe tbody tr th:only-of-type {\n",
              "        vertical-align: middle;\n",
              "    }\n",
              "\n",
              "    .dataframe tbody tr th {\n",
              "        vertical-align: top;\n",
              "    }\n",
              "\n",
              "    .dataframe thead th {\n",
              "        text-align: right;\n",
              "    }\n",
              "</style>\n",
              "<table border=\"1\" class=\"dataframe\">\n",
              "  <thead>\n",
              "    <tr style=\"text-align: right;\">\n",
              "      <th></th>\n",
              "      <th>item_name</th>\n",
              "      <th>ing_id</th>\n",
              "      <th>ing_name</th>\n",
              "      <th>ing_weight</th>\n",
              "      <th>ing_price</th>\n",
              "      <th>order_quan</th>\n",
              "      <th>rep_quan</th>\n",
              "      <th>quantity_required</th>\n",
              "      <th>unit_cost</th>\n",
              "      <th>ingredient_cost</th>\n",
              "      <th>item_cost</th>\n",
              "    </tr>\n",
              "  </thead>\n",
              "  <tbody>\n",
              "    <tr>\n",
              "      <th>0</th>\n",
              "      <td>Pizza Margherita Reg</td>\n",
              "      <td>ING001</td>\n",
              "      <td>Pizza dough ball (8 pack)</td>\n",
              "      <td>2000</td>\n",
              "      <td>4.22</td>\n",
              "      <td>288</td>\n",
              "      <td>250</td>\n",
              "      <td>72000</td>\n",
              "      <td>0.002110</td>\n",
              "      <td>151.9200</td>\n",
              "      <td>0.527500</td>\n",
              "    </tr>\n",
              "    <tr>\n",
              "      <th>1</th>\n",
              "      <td>Pizza Margherita Reg</td>\n",
              "      <td>ING002</td>\n",
              "      <td>Tomato sauce</td>\n",
              "      <td>4500</td>\n",
              "      <td>3.89</td>\n",
              "      <td>288</td>\n",
              "      <td>80</td>\n",
              "      <td>23040</td>\n",
              "      <td>0.000864</td>\n",
              "      <td>19.9168</td>\n",
              "      <td>0.069156</td>\n",
              "    </tr>\n",
              "    <tr>\n",
              "      <th>2</th>\n",
              "      <td>Pizza Margherita Reg</td>\n",
              "      <td>ING003</td>\n",
              "      <td>Mozzarella cheese</td>\n",
              "      <td>2500</td>\n",
              "      <td>14.45</td>\n",
              "      <td>288</td>\n",
              "      <td>170</td>\n",
              "      <td>48960</td>\n",
              "      <td>0.005780</td>\n",
              "      <td>282.9888</td>\n",
              "      <td>0.982600</td>\n",
              "    </tr>\n",
              "    <tr>\n",
              "      <th>3</th>\n",
              "      <td>Pizza Margherita Reg</td>\n",
              "      <td>ING004</td>\n",
              "      <td>Dried oregano</td>\n",
              "      <td>500</td>\n",
              "      <td>5.99</td>\n",
              "      <td>288</td>\n",
              "      <td>5</td>\n",
              "      <td>1440</td>\n",
              "      <td>0.011980</td>\n",
              "      <td>17.2512</td>\n",
              "      <td>0.059900</td>\n",
              "    </tr>\n",
              "    <tr>\n",
              "      <th>4</th>\n",
              "      <td>Pizza Margherita Large</td>\n",
              "      <td>ING001</td>\n",
              "      <td>Pizza dough ball (8 pack)</td>\n",
              "      <td>2000</td>\n",
              "      <td>4.22</td>\n",
              "      <td>112</td>\n",
              "      <td>300</td>\n",
              "      <td>33600</td>\n",
              "      <td>0.002110</td>\n",
              "      <td>70.8960</td>\n",
              "      <td>0.633000</td>\n",
              "    </tr>\n",
              "    <tr>\n",
              "      <th>...</th>\n",
              "      <td>...</td>\n",
              "      <td>...</td>\n",
              "      <td>...</td>\n",
              "      <td>...</td>\n",
              "      <td>...</td>\n",
              "      <td>...</td>\n",
              "      <td>...</td>\n",
              "      <td>...</td>\n",
              "      <td>...</td>\n",
              "      <td>...</td>\n",
              "      <td>...</td>\n",
              "    </tr>\n",
              "    <tr>\n",
              "      <th>104</th>\n",
              "      <td>Fanta Diet 1.5l</td>\n",
              "      <td>ING043</td>\n",
              "      <td>Fanta Diet 1.5l</td>\n",
              "      <td>1</td>\n",
              "      <td>0.96</td>\n",
              "      <td>32</td>\n",
              "      <td>1</td>\n",
              "      <td>32</td>\n",
              "      <td>0.960000</td>\n",
              "      <td>30.7200</td>\n",
              "      <td>0.960000</td>\n",
              "    </tr>\n",
              "    <tr>\n",
              "      <th>105</th>\n",
              "      <td>San Pelligrino 33cl</td>\n",
              "      <td>ING044</td>\n",
              "      <td>San Pelligrino 33cl</td>\n",
              "      <td>1</td>\n",
              "      <td>0.36</td>\n",
              "      <td>64</td>\n",
              "      <td>1</td>\n",
              "      <td>64</td>\n",
              "      <td>0.360000</td>\n",
              "      <td>23.0400</td>\n",
              "      <td>0.360000</td>\n",
              "    </tr>\n",
              "    <tr>\n",
              "      <th>106</th>\n",
              "      <td>San Pelligrino 1.5l</td>\n",
              "      <td>ING045</td>\n",
              "      <td>San Pelligrino 1.5l</td>\n",
              "      <td>1</td>\n",
              "      <td>0.86</td>\n",
              "      <td>144</td>\n",
              "      <td>1</td>\n",
              "      <td>144</td>\n",
              "      <td>0.860000</td>\n",
              "      <td>123.8400</td>\n",
              "      <td>0.860000</td>\n",
              "    </tr>\n",
              "    <tr>\n",
              "      <th>107</th>\n",
              "      <td>Perrier 33cl</td>\n",
              "      <td>ING046</td>\n",
              "      <td>Perrier 33cl</td>\n",
              "      <td>1</td>\n",
              "      <td>0.36</td>\n",
              "      <td>48</td>\n",
              "      <td>1</td>\n",
              "      <td>48</td>\n",
              "      <td>0.360000</td>\n",
              "      <td>17.2800</td>\n",
              "      <td>0.360000</td>\n",
              "    </tr>\n",
              "    <tr>\n",
              "      <th>108</th>\n",
              "      <td>Perrier 1.5l</td>\n",
              "      <td>ING047</td>\n",
              "      <td>Perrier 1.5l</td>\n",
              "      <td>1</td>\n",
              "      <td>0.86</td>\n",
              "      <td>160</td>\n",
              "      <td>1</td>\n",
              "      <td>160</td>\n",
              "      <td>0.860000</td>\n",
              "      <td>137.6000</td>\n",
              "      <td>0.860000</td>\n",
              "    </tr>\n",
              "  </tbody>\n",
              "</table>\n",
              "<p>109 rows × 11 columns</p>\n",
              "</div>\n",
              "      <button class=\"colab-df-convert\" onclick=\"convertToInteractive('df-39eef088-cec5-42c5-83c3-ea7c2e9f1c75')\"\n",
              "              title=\"Convert this dataframe to an interactive table.\"\n",
              "              style=\"display:none;\">\n",
              "        \n",
              "  <svg xmlns=\"http://www.w3.org/2000/svg\" height=\"24px\"viewBox=\"0 0 24 24\"\n",
              "       width=\"24px\">\n",
              "    <path d=\"M0 0h24v24H0V0z\" fill=\"none\"/>\n",
              "    <path d=\"M18.56 5.44l.94 2.06.94-2.06 2.06-.94-2.06-.94-.94-2.06-.94 2.06-2.06.94zm-11 1L8.5 8.5l.94-2.06 2.06-.94-2.06-.94L8.5 2.5l-.94 2.06-2.06.94zm10 10l.94 2.06.94-2.06 2.06-.94-2.06-.94-.94-2.06-.94 2.06-2.06.94z\"/><path d=\"M17.41 7.96l-1.37-1.37c-.4-.4-.92-.59-1.43-.59-.52 0-1.04.2-1.43.59L10.3 9.45l-7.72 7.72c-.78.78-.78 2.05 0 2.83L4 21.41c.39.39.9.59 1.41.59.51 0 1.02-.2 1.41-.59l7.78-7.78 2.81-2.81c.8-.78.8-2.07 0-2.86zM5.41 20L4 18.59l7.72-7.72 1.47 1.35L5.41 20z\"/>\n",
              "  </svg>\n",
              "      </button>\n",
              "      \n",
              "  <style>\n",
              "    .colab-df-container {\n",
              "      display:flex;\n",
              "      flex-wrap:wrap;\n",
              "      gap: 12px;\n",
              "    }\n",
              "\n",
              "    .colab-df-convert {\n",
              "      background-color: #E8F0FE;\n",
              "      border: none;\n",
              "      border-radius: 50%;\n",
              "      cursor: pointer;\n",
              "      display: none;\n",
              "      fill: #1967D2;\n",
              "      height: 32px;\n",
              "      padding: 0 0 0 0;\n",
              "      width: 32px;\n",
              "    }\n",
              "\n",
              "    .colab-df-convert:hover {\n",
              "      background-color: #E2EBFA;\n",
              "      box-shadow: 0px 1px 2px rgba(60, 64, 67, 0.3), 0px 1px 3px 1px rgba(60, 64, 67, 0.15);\n",
              "      fill: #174EA6;\n",
              "    }\n",
              "\n",
              "    [theme=dark] .colab-df-convert {\n",
              "      background-color: #3B4455;\n",
              "      fill: #D2E3FC;\n",
              "    }\n",
              "\n",
              "    [theme=dark] .colab-df-convert:hover {\n",
              "      background-color: #434B5C;\n",
              "      box-shadow: 0px 1px 3px 1px rgba(0, 0, 0, 0.15);\n",
              "      filter: drop-shadow(0px 1px 2px rgba(0, 0, 0, 0.3));\n",
              "      fill: #FFFFFF;\n",
              "    }\n",
              "  </style>\n",
              "\n",
              "      <script>\n",
              "        const buttonEl =\n",
              "          document.querySelector('#df-39eef088-cec5-42c5-83c3-ea7c2e9f1c75 button.colab-df-convert');\n",
              "        buttonEl.style.display =\n",
              "          google.colab.kernel.accessAllowed ? 'block' : 'none';\n",
              "\n",
              "        async function convertToInteractive(key) {\n",
              "          const element = document.querySelector('#df-39eef088-cec5-42c5-83c3-ea7c2e9f1c75');\n",
              "          const dataTable =\n",
              "            await google.colab.kernel.invokeFunction('convertToInteractive',\n",
              "                                                     [key], {});\n",
              "          if (!dataTable) return;\n",
              "\n",
              "          const docLinkHtml = 'Like what you see? Visit the ' +\n",
              "            '<a target=\"_blank\" href=https://colab.research.google.com/notebooks/data_table.ipynb>data table notebook</a>'\n",
              "            + ' to learn more about interactive tables.';\n",
              "          element.innerHTML = '';\n",
              "          dataTable['output_type'] = 'display_data';\n",
              "          await google.colab.output.renderOutput(dataTable, element);\n",
              "          const docLink = document.createElement('div');\n",
              "          docLink.innerHTML = docLinkHtml;\n",
              "          element.appendChild(docLink);\n",
              "        }\n",
              "      </script>\n",
              "    </div>\n",
              "  </div>\n",
              "  "
            ]
          },
          "metadata": {},
          "execution_count": 50
        }
      ]
    },
    {
      "cell_type": "markdown",
      "source": [
        "##Dashboard 2"
      ],
      "metadata": {
        "id": "sVj82irBEj5E"
      }
    },
    {
      "cell_type": "markdown",
      "source": [
        "The second dashboard is about the material cost and stock information to keep the pizza shop running.\n",
        "1.   Total quantity required for orders by ingredient\n",
        "2.   Total cost of ingredients for orders\n",
        "3.   Calculated cost of pizza\n",
        "4.   Percentage stock remaining by ingredient\n",
        "5.   List of ingredients to re-order based on remaining inventory"
      ],
      "metadata": {
        "id": "YRfXjSgOEj5F"
      }
    },
    {
      "cell_type": "markdown",
      "source": [
        "##1. Total quantity required for orders by ingredient"
      ],
      "metadata": {
        "id": "tAOs2C1gB9Xo"
      }
    },
    {
      "cell_type": "code",
      "source": [
        "quantity_by_ingredient=result2.groupby('ing_name')['quantity_required'].sum().to_frame()\n",
        "print(f'The total quantity required for orders by ingredient is\\n',quantity_by_ingredient)"
      ],
      "metadata": {
        "colab": {
          "base_uri": "https://localhost:8080/"
        },
        "id": "WyfbiuP6B9VD",
        "outputId": "1573ea3c-acf8-4af6-acb0-5e5f7f923143"
      },
      "execution_count": null,
      "outputs": [
        {
          "output_type": "stream",
          "name": "stdout",
          "text": [
            "The total quantity required for orders by ingredient is\n",
            "                            quantity_required\n",
            "ing_name                                    \n",
            "Anchovies                              29600\n",
            "Banoffee pie                           67200\n",
            "Caesar dressing                        11840\n",
            "Calamari                               20000\n",
            "Capers                                  2128\n",
            "Chicken wings                          57600\n",
            "Chilli pepper                          11280\n",
            "Chocolate brownie                      51600\n",
            "Chocolate ice cream                    59200\n",
            "Coca Cola Diet 1.5l                       16\n",
            "Coca Cola Diet 33cl                      128\n",
            "Coca Cola Regular 1.5l                   160\n",
            "Coca Cola Regular 33cl                   224\n",
            "Croutons                               29600\n",
            "Dried oregano                           2336\n",
            "Eggplant                               41280\n",
            "Fanta Diet 1.5l                           32\n",
            "Fanta Regular 1.5l                        96\n",
            "Fanta Regular 33cl                       464\n",
            "Fruit salad                            45600\n",
            "Garlic and parsley butter               4080\n",
            "Gorgonzola cheese                     165120\n",
            "Ham                                    16480\n",
            "Mozzarella cheese                     676800\n",
            "Parmesan cheese                       221600\n",
            "Pepperoni                             101120\n",
            "Perrier 1.5l                             160\n",
            "Perrier 33cl                              48\n",
            "Pineapple                              13120\n",
            "Pistachio ice cream                     9600\n",
            "Pizza dough ball (8 pack)            1258400\n",
            "Ricotta cheese                        165120\n",
            "Romain lettuce                         59200\n",
            "Rotisserie chicken pieces              71040\n",
            "San Pelligrino 1.5l                      144\n",
            "San Pelligrino 33cl                       64\n",
            "Shrimp                                 20000\n",
            "Spicy salami                           54240\n",
            "Sprite Diet 33cl                          16\n",
            "Sprite Regular 1.5l                      176\n",
            "Sprite Regular 33cl                       48\n",
            "Strawberry ice cream                   14400\n",
            "Tomato sauce                          329600\n",
            "Tuna                                   20000\n",
            "Vanilla ice cream                      12800\n"
          ]
        }
      ]
    },
    {
      "cell_type": "markdown",
      "source": [
        "##2. Total cost of ingredients for orders"
      ],
      "metadata": {
        "id": "j0LllGuwB9R6"
      }
    },
    {
      "cell_type": "code",
      "source": [
        "cost_by_ingredient=result2.groupby('ing_name')['ingredient_cost'].sum().to_frame()\n",
        "print(f'The total cost of ingredients for orders is\\n',cost_by_ingredient.round(2))"
      ],
      "metadata": {
        "colab": {
          "base_uri": "https://localhost:8080/"
        },
        "id": "2nJF5CqyB9O1",
        "outputId": "9341abff-cbe8-4dfb-980a-b346cfd07050"
      },
      "execution_count": null,
      "outputs": [
        {
          "output_type": "stream",
          "name": "stdout",
          "text": [
            "The total cost of ingredients for orders is\n",
            "                            ingredient_cost\n",
            "ing_name                                  \n",
            "Anchovies                           325.30\n",
            "Banoffee pie                         64.40\n",
            "Caesar dressing                      56.02\n",
            "Calamari                            230.16\n",
            "Capers                                8.85\n",
            "Chicken wings                       670.37\n",
            "Chilli pepper                        73.21\n",
            "Chocolate brownie                    91.85\n",
            "Chocolate ice cream                 203.25\n",
            "Coca Cola Diet 1.5l                  15.36\n",
            "Coca Cola Diet 33cl                  52.48\n",
            "Coca Cola Regular 1.5l              153.60\n",
            "Coca Cola Regular 33cl               91.84\n",
            "Croutons                            124.32\n",
            "Dried oregano                        27.99\n",
            "Eggplant                             78.43\n",
            "Fanta Diet 1.5l                      30.72\n",
            "Fanta Regular 1.5l                   92.16\n",
            "Fanta Regular 33cl                  190.24\n",
            "Fruit salad                          64.93\n",
            "Garlic and parsley butter            70.86\n",
            "Gorgonzola cheese                  1303.98\n",
            "Ham                                 106.96\n",
            "Mozzarella cheese                  3911.90\n",
            "Parmesan cheese                    1662.00\n",
            "Pepperoni                           978.03\n",
            "Perrier 1.5l                        137.60\n",
            "Perrier 33cl                         17.28\n",
            "Pineapple                            16.35\n",
            "Pistachio ice cream                  32.96\n",
            "Pizza dough ball (8 pack)          2655.22\n",
            "Ricotta cheese                      439.22\n",
            "Romain lettuce                      108.30\n",
            "Rotisserie chicken pieces           489.47\n",
            "San Pelligrino 1.5l                 123.84\n",
            "San Pelligrino 33cl                  23.04\n",
            "Shrimp                              179.60\n",
            "Spicy salami                        583.31\n",
            "Sprite Diet 33cl                      6.56\n",
            "Sprite Regular 1.5l                 168.96\n",
            "Sprite Regular 33cl                  19.68\n",
            "Strawberry ice cream                 49.44\n",
            "Tomato sauce                        284.92\n",
            "Tuna                                 76.60\n",
            "Vanilla ice cream                    43.95\n"
          ]
        }
      ]
    },
    {
      "cell_type": "markdown",
      "source": [
        "##3. Calculated cost of pizza"
      ],
      "metadata": {
        "id": "y7mAsSN1B9Ly"
      }
    },
    {
      "cell_type": "code",
      "source": [
        "cost_of_pizza=result2.groupby('item_name')[['item_cost']].sum()\n",
        "filt=(cost_of_pizza.index.str.contains(\"Pizza\"))\n",
        "print(f'The cost_of_pizza is\\n',cost_of_pizza[filt].round(2))"
      ],
      "metadata": {
        "colab": {
          "base_uri": "https://localhost:8080/"
        },
        "id": "v2meK8fqB9I4",
        "outputId": "c48600f6-8efe-4ef2-895c-c2c822b3bfba"
      },
      "execution_count": null,
      "outputs": [
        {
          "output_type": "stream",
          "name": "stdout",
          "text": [
            "The cost_of_pizza is\n",
            "                               item_cost\n",
            "item_name                              \n",
            "Pizza Diavola (hot) Large          2.73\n",
            "Pizza Diavola (hot) Reg            2.18\n",
            "Pizza Hawaiian Large               3.00\n",
            "Pizza Hawaiian Reg                 2.55\n",
            "Pizza Margherita Large             1.97\n",
            "Pizza Margherita Reg               1.64\n",
            "Pizza Napolitana Large             2.45\n",
            "Pizza Napolitana Reg               2.70\n",
            "Pizza Parmigiana Large             3.66\n",
            "Pizza Parmigiana Reg               3.08\n",
            "Pizza Pepperoni Large              4.20\n",
            "Pizza Pepperoni Reg                3.51\n",
            "Pizza Quattro Formaggi Large       5.13\n",
            "Pizza Quattro Formaggi Reg         4.29\n",
            "Pizza Seafood Large                6.13\n",
            "Pizza Seafood Reg                  5.23\n"
          ]
        }
      ]
    },
    {
      "cell_type": "code",
      "source": [
        "# use previous query for following questions\n",
        "pd_to_sqlDB(result2,\"result2\",\"pizza_db\")\n",
        "\n",
        "# query to answer remaining question in dashboard2\n",
        "query=\"\"\"\n",
        "SELECT\n",
        "  sub2.ing_name,\n",
        "  sub2.ordered_weight,\n",
        "  (ing.ing_weight*inv.quantity) AS total_inv_weight\n",
        "FROM\n",
        "  (SELECT\n",
        "    ing_id,\n",
        "    ing_name,\n",
        "    SUM(quantity_required) AS ordered_weight\n",
        "  FROM result2\n",
        "  GROUP BY \n",
        "  ing_name, ing_id) sub2\n",
        "LEFT JOIN inventory inv ON inv.item_id = sub2.ing_id\n",
        "LEFT JOIN ingredient ing ON ing.ing_id = sub2.ing_id;\n",
        "\"\"\"\n",
        "result3=sql_query_to_pd(query,\"pizza_db\")\n",
        "result3"
      ],
      "metadata": {
        "colab": {
          "base_uri": "https://localhost:8080/",
          "height": 423
        },
        "id": "V44bhwtaB9GS",
        "outputId": "ad7afa14-783b-41d1-be11-2d73d8bf9583"
      },
      "execution_count": null,
      "outputs": [
        {
          "output_type": "execute_result",
          "data": {
            "text/plain": [
              "              ing_name  ordered_weight  total_inv_weight\n",
              "0            Anchovies           31450              2000\n",
              "1            Anchovies           31450              2000\n",
              "2            Anchovies           31450              2000\n",
              "3            Anchovies           31450              2000\n",
              "4         Banoffee pie           71400              2400\n",
              "..                 ...             ...               ...\n",
              "175               Tuna           21250              6000\n",
              "176  Vanilla ice cream           13600              9000\n",
              "177  Vanilla ice cream           13600              9000\n",
              "178  Vanilla ice cream           13600              9000\n",
              "179  Vanilla ice cream           13600              9000\n",
              "\n",
              "[180 rows x 3 columns]"
            ],
            "text/html": [
              "\n",
              "  <div id=\"df-c0dc51e4-1a81-4642-a977-ff98bc770855\">\n",
              "    <div class=\"colab-df-container\">\n",
              "      <div>\n",
              "<style scoped>\n",
              "    .dataframe tbody tr th:only-of-type {\n",
              "        vertical-align: middle;\n",
              "    }\n",
              "\n",
              "    .dataframe tbody tr th {\n",
              "        vertical-align: top;\n",
              "    }\n",
              "\n",
              "    .dataframe thead th {\n",
              "        text-align: right;\n",
              "    }\n",
              "</style>\n",
              "<table border=\"1\" class=\"dataframe\">\n",
              "  <thead>\n",
              "    <tr style=\"text-align: right;\">\n",
              "      <th></th>\n",
              "      <th>ing_name</th>\n",
              "      <th>ordered_weight</th>\n",
              "      <th>total_inv_weight</th>\n",
              "    </tr>\n",
              "  </thead>\n",
              "  <tbody>\n",
              "    <tr>\n",
              "      <th>0</th>\n",
              "      <td>Anchovies</td>\n",
              "      <td>31450</td>\n",
              "      <td>2000</td>\n",
              "    </tr>\n",
              "    <tr>\n",
              "      <th>1</th>\n",
              "      <td>Anchovies</td>\n",
              "      <td>31450</td>\n",
              "      <td>2000</td>\n",
              "    </tr>\n",
              "    <tr>\n",
              "      <th>2</th>\n",
              "      <td>Anchovies</td>\n",
              "      <td>31450</td>\n",
              "      <td>2000</td>\n",
              "    </tr>\n",
              "    <tr>\n",
              "      <th>3</th>\n",
              "      <td>Anchovies</td>\n",
              "      <td>31450</td>\n",
              "      <td>2000</td>\n",
              "    </tr>\n",
              "    <tr>\n",
              "      <th>4</th>\n",
              "      <td>Banoffee pie</td>\n",
              "      <td>71400</td>\n",
              "      <td>2400</td>\n",
              "    </tr>\n",
              "    <tr>\n",
              "      <th>...</th>\n",
              "      <td>...</td>\n",
              "      <td>...</td>\n",
              "      <td>...</td>\n",
              "    </tr>\n",
              "    <tr>\n",
              "      <th>175</th>\n",
              "      <td>Tuna</td>\n",
              "      <td>21250</td>\n",
              "      <td>6000</td>\n",
              "    </tr>\n",
              "    <tr>\n",
              "      <th>176</th>\n",
              "      <td>Vanilla ice cream</td>\n",
              "      <td>13600</td>\n",
              "      <td>9000</td>\n",
              "    </tr>\n",
              "    <tr>\n",
              "      <th>177</th>\n",
              "      <td>Vanilla ice cream</td>\n",
              "      <td>13600</td>\n",
              "      <td>9000</td>\n",
              "    </tr>\n",
              "    <tr>\n",
              "      <th>178</th>\n",
              "      <td>Vanilla ice cream</td>\n",
              "      <td>13600</td>\n",
              "      <td>9000</td>\n",
              "    </tr>\n",
              "    <tr>\n",
              "      <th>179</th>\n",
              "      <td>Vanilla ice cream</td>\n",
              "      <td>13600</td>\n",
              "      <td>9000</td>\n",
              "    </tr>\n",
              "  </tbody>\n",
              "</table>\n",
              "<p>180 rows × 3 columns</p>\n",
              "</div>\n",
              "      <button class=\"colab-df-convert\" onclick=\"convertToInteractive('df-c0dc51e4-1a81-4642-a977-ff98bc770855')\"\n",
              "              title=\"Convert this dataframe to an interactive table.\"\n",
              "              style=\"display:none;\">\n",
              "        \n",
              "  <svg xmlns=\"http://www.w3.org/2000/svg\" height=\"24px\"viewBox=\"0 0 24 24\"\n",
              "       width=\"24px\">\n",
              "    <path d=\"M0 0h24v24H0V0z\" fill=\"none\"/>\n",
              "    <path d=\"M18.56 5.44l.94 2.06.94-2.06 2.06-.94-2.06-.94-.94-2.06-.94 2.06-2.06.94zm-11 1L8.5 8.5l.94-2.06 2.06-.94-2.06-.94L8.5 2.5l-.94 2.06-2.06.94zm10 10l.94 2.06.94-2.06 2.06-.94-2.06-.94-.94-2.06-.94 2.06-2.06.94z\"/><path d=\"M17.41 7.96l-1.37-1.37c-.4-.4-.92-.59-1.43-.59-.52 0-1.04.2-1.43.59L10.3 9.45l-7.72 7.72c-.78.78-.78 2.05 0 2.83L4 21.41c.39.39.9.59 1.41.59.51 0 1.02-.2 1.41-.59l7.78-7.78 2.81-2.81c.8-.78.8-2.07 0-2.86zM5.41 20L4 18.59l7.72-7.72 1.47 1.35L5.41 20z\"/>\n",
              "  </svg>\n",
              "      </button>\n",
              "      \n",
              "  <style>\n",
              "    .colab-df-container {\n",
              "      display:flex;\n",
              "      flex-wrap:wrap;\n",
              "      gap: 12px;\n",
              "    }\n",
              "\n",
              "    .colab-df-convert {\n",
              "      background-color: #E8F0FE;\n",
              "      border: none;\n",
              "      border-radius: 50%;\n",
              "      cursor: pointer;\n",
              "      display: none;\n",
              "      fill: #1967D2;\n",
              "      height: 32px;\n",
              "      padding: 0 0 0 0;\n",
              "      width: 32px;\n",
              "    }\n",
              "\n",
              "    .colab-df-convert:hover {\n",
              "      background-color: #E2EBFA;\n",
              "      box-shadow: 0px 1px 2px rgba(60, 64, 67, 0.3), 0px 1px 3px 1px rgba(60, 64, 67, 0.15);\n",
              "      fill: #174EA6;\n",
              "    }\n",
              "\n",
              "    [theme=dark] .colab-df-convert {\n",
              "      background-color: #3B4455;\n",
              "      fill: #D2E3FC;\n",
              "    }\n",
              "\n",
              "    [theme=dark] .colab-df-convert:hover {\n",
              "      background-color: #434B5C;\n",
              "      box-shadow: 0px 1px 3px 1px rgba(0, 0, 0, 0.15);\n",
              "      filter: drop-shadow(0px 1px 2px rgba(0, 0, 0, 0.3));\n",
              "      fill: #FFFFFF;\n",
              "    }\n",
              "  </style>\n",
              "\n",
              "      <script>\n",
              "        const buttonEl =\n",
              "          document.querySelector('#df-c0dc51e4-1a81-4642-a977-ff98bc770855 button.colab-df-convert');\n",
              "        buttonEl.style.display =\n",
              "          google.colab.kernel.accessAllowed ? 'block' : 'none';\n",
              "\n",
              "        async function convertToInteractive(key) {\n",
              "          const element = document.querySelector('#df-c0dc51e4-1a81-4642-a977-ff98bc770855');\n",
              "          const dataTable =\n",
              "            await google.colab.kernel.invokeFunction('convertToInteractive',\n",
              "                                                     [key], {});\n",
              "          if (!dataTable) return;\n",
              "\n",
              "          const docLinkHtml = 'Like what you see? Visit the ' +\n",
              "            '<a target=\"_blank\" href=https://colab.research.google.com/notebooks/data_table.ipynb>data table notebook</a>'\n",
              "            + ' to learn more about interactive tables.';\n",
              "          element.innerHTML = '';\n",
              "          dataTable['output_type'] = 'display_data';\n",
              "          await google.colab.output.renderOutput(dataTable, element);\n",
              "          const docLink = document.createElement('div');\n",
              "          docLink.innerHTML = docLinkHtml;\n",
              "          element.appendChild(docLink);\n",
              "        }\n",
              "      </script>\n",
              "    </div>\n",
              "  </div>\n",
              "  "
            ]
          },
          "metadata": {},
          "execution_count": 54
        }
      ]
    }
  ]
}