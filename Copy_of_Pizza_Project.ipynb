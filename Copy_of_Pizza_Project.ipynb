{
  "nbformat": 4,
  "nbformat_minor": 0,
  "metadata": {
    "colab": {
      "provenance": [],
      "collapsed_sections": [
        "wE3urEK9A25Z"
      ],
      "authorship_tag": "ABX9TyN+D/0/qOPWrjn3bq2UUeUn",
      "include_colab_link": true
    },
    "kernelspec": {
      "name": "python3",
      "display_name": "Python 3"
    },
    "language_info": {
      "name": "python"
    }
  },
  "cells": [
    {
      "cell_type": "markdown",
      "metadata": {
        "id": "view-in-github",
        "colab_type": "text"
      },
      "source": [
        "<a href=\"https://colab.research.google.com/github/popo169/Portfolio-Project/blob/main/Copy_of_Pizza_Project.ipynb\" target=\"_parent\"><img src=\"https://colab.research.google.com/assets/colab-badge.svg\" alt=\"Open In Colab\"/></a>"
      ]
    },
    {
      "cell_type": "markdown",
      "source": [
        "#Introduction"
      ],
      "metadata": {
        "id": "cUgxnMi1amcf"
      }
    },
    {
      "cell_type": "markdown",
      "source": [
        "Business intelligence is very important nowadays. It helps you to know better of your company including how the sales recently, which item is going to out of stock and most importantly, what is the profit.\n",
        "\n",
        "In this project, I am going to demonstrate how to use data from a pizza shop along with SQL to create 3 dashboards for business intelligence."
      ],
      "metadata": {
        "id": "b8gyoO6hEEMK"
      }
    },
    {
      "cell_type": "markdown",
      "source": [
        "##Data content"
      ],
      "metadata": {
        "id": "QcPTqaoGEIYz"
      }
    },
    {
      "cell_type": "markdown",
      "source": [
        "There are 10 tables in the dataset.\n",
        "\n",
        "Table name | Content | Columns\n",
        "--- | --- | ---\n",
        "Address | Customers' address and zip code | 'add_id', 'delivery_address1', 'delivery_address2', 'delivery_city', 'delivery_zipcode'\n",
        "Customers | First and last name | 'cust_id', 'cust_firstname', 'cust_lastname'\n",
        "Ingredient | Ingredient name, weight, unit and price | 'ing_id', 'ing_name', 'ing_weight', 'ing_meas', 'ing_price'\n",
        "Inventory | Quantity of inventory | 'inv_id', 'item_id', 'quantity'\n",
        "Item | Item name, code, category, size and price | 'item_id', 'sku', 'item_name', 'item_cat', 'item_size', 'item_price'\n",
        "Orders | Order create time, item ordered, quantity, customer ID, delivery/pick up, address ID | 'row_id', 'order_id', 'created_at', 'item_id', 'quantity', 'cust_id', 'delivery', 'add_id'\n",
        "Recipe | Recipe ID, ingredient ID, required quantity | 'row_id', 'recipe_id', 'ing_id', 'quantity'\n",
        "Rota | Duty date, shift ID, staff ID | 'row_id', 'rota_id', 'date', 'shift_id', 'staff_id'\n",
        "Shift | Day of week, start time and end time | 'shift_id', 'day_of_week', 'start_time', 'end_time'\n",
        "Staff | Staff first and last name, position, hourly rate | 'staff_id', 'first_name', 'last_name', 'position', 'hourly_rate'"
      ],
      "metadata": {
        "id": "PwUnDFpPAqC6"
      }
    },
    {
      "cell_type": "markdown",
      "source": [
        "##Dashboard 1"
      ],
      "metadata": {
        "id": "M7ka5oBdEMjN"
      }
    },
    {
      "cell_type": "markdown",
      "source": [
        "This dashboard contains the basic information about the pizza shop. It tells whether the pizza shop is earning or losing money.\n",
        "1.   Total number of order\n",
        "2.   Total sales\n",
        "3.   Total item sold\n",
        "4.   Average order value\n",
        "5.   Sales by category\n",
        "6.   Top selling item\n",
        "7.   Orders by hour\n",
        "8.   Sales by hour\n",
        "9.   Orders by address\n",
        "10.  Orders by delivery/pick up"
      ],
      "metadata": {
        "id": "pmlRLHKeAyU1"
      }
    },
    {
      "cell_type": "markdown",
      "source": [
        "##Dashboard 2"
      ],
      "metadata": {
        "id": "wLaLYOLcEPL3"
      }
    },
    {
      "cell_type": "markdown",
      "source": [
        "The second dashboard is about the material cost and stock information to keep the pizza shop running.\n",
        "1.   Total quantity required for orders by ingredient\n",
        "2.   Total cost of ingredients for orders\n",
        "3.   Calculated cost of pizza\n",
        "4.   Percentage stock remaining by ingredient\n",
        "5.   List of ingredients to re-order based on remaining inventory"
      ],
      "metadata": {
        "id": "pavkftPyAsec"
      }
    },
    {
      "cell_type": "markdown",
      "source": [
        "##Dashboard 3"
      ],
      "metadata": {
        "id": "psmn0uV4ER3w"
      }
    },
    {
      "cell_type": "markdown",
      "source": [
        "The last dashboard is going to capture the human resource cost of the pizza shop.\n",
        "1.   Hours worked by staff member\n",
        "2.   Total hours worked\n",
        "3.   Cost per staff member\n",
        "4.   Total staff cost"
      ],
      "metadata": {
        "id": "24J6_Qb7A0ee"
      }
    },
    {
      "cell_type": "markdown",
      "source": [
        "##Import data"
      ],
      "metadata": {
        "id": "wE3urEK9A25Z"
      }
    },
    {
      "cell_type": "code",
      "source": [
        "# connect google drive\n",
        "from google.colab import drive\n",
        "drive.mount('/content/gdrive')"
      ],
      "metadata": {
        "colab": {
          "base_uri": "https://localhost:8080/"
        },
        "id": "TSoX3qdLBLRa",
        "outputId": "d2e564d7-0155-4989-efa3-65839a9a6b14"
      },
      "execution_count": null,
      "outputs": [
        {
          "output_type": "stream",
          "name": "stdout",
          "text": [
            "Drive already mounted at /content/gdrive; to attempt to forcibly remount, call drive.mount(\"/content/gdrive\", force_remount=True).\n"
          ]
        }
      ]
    },
    {
      "cell_type": "code",
      "source": [
        "# import library\n",
        "import sqlite3\n",
        "import pandas as pd\n",
        "import numpy as np"
      ],
      "metadata": {
        "id": "dOYIT7MzBNMN"
      },
      "execution_count": null,
      "outputs": []
    },
    {
      "cell_type": "code",
      "source": [
        "# import data\n",
        "address=pd.read_csv('/content/gdrive/My Drive/dataset/SQL/pizza_proj/address.csv')\n",
        "customers=pd.read_csv('/content/gdrive/My Drive/dataset/SQL/pizza_proj/customers.csv')\n",
        "ingredient=pd.read_csv('/content/gdrive/My Drive/dataset/SQL/pizza_proj/ingredient.csv')\n",
        "inventory=pd.read_csv('/content/gdrive/My Drive/dataset/SQL/pizza_proj/inventory.csv')\n",
        "item=pd.read_csv('/content/gdrive/My Drive/dataset/SQL/pizza_proj/item.csv')\n",
        "orders=pd.read_csv('/content/gdrive/My Drive/dataset/SQL/pizza_proj/orders.csv')\n",
        "recipe=pd.read_csv('/content/gdrive/My Drive/dataset/SQL/pizza_proj/recipe.csv')\n",
        "rota=pd.read_csv('/content/gdrive/My Drive/dataset/SQL/pizza_proj/rota.csv')\n",
        "shift=pd.read_csv('/content/gdrive/My Drive/dataset/SQL/pizza_proj/shift.csv')\n",
        "staff=pd.read_csv('/content/gdrive/My Drive/dataset/SQL/pizza_proj/staff.csv')"
      ],
      "metadata": {
        "id": "_H2UlVeZBNFO"
      },
      "execution_count": null,
      "outputs": []
    },
    {
      "cell_type": "code",
      "source": [
        "# import data to sql tables\n",
        "pd_to_sqlDB(address,\"address\",\"pizza_db\")\n",
        "pd_to_sqlDB(customers,\"customers\",\"pizza_db\")\n",
        "pd_to_sqlDB(ingredient,\"ingredient\",\"pizza_db\")\n",
        "pd_to_sqlDB(inventory,\"inventory\",\"pizza_db\")\n",
        "pd_to_sqlDB(item,\"item\",\"pizza_db\")\n",
        "pd_to_sqlDB(orders,\"orders\",\"pizza_db\")\n",
        "pd_to_sqlDB(recipe,\"recipe\",\"pizza_db\")\n",
        "pd_to_sqlDB(rota,\"rota\",\"pizza_db\")\n",
        "pd_to_sqlDB(shift,\"shift\",\"pizza_db\")\n",
        "pd_to_sqlDB(staff,\"staff\",\"pizza_db\")"
      ],
      "metadata": {
        "id": "PN_mTrdEBNBv"
      },
      "execution_count": null,
      "outputs": []
    },
    {
      "cell_type": "markdown",
      "source": [
        "#Query for 1st dashboard"
      ],
      "metadata": {
        "id": "mnZGtQtfBM-N"
      }
    },
    {
      "cell_type": "code",
      "source": [
        "# Query table for the 1st dashboard\n",
        "query=\"\"\"\n",
        "SELECT\n",
        "  o.order_id,\n",
        "  o.quantity*i.item_price AS order_sales,\n",
        "  o.quantity,\n",
        "  i.item_cat,\n",
        "  i.item_name,\n",
        "  o.created_at,\n",
        "  a.delivery_address1,\n",
        "  -- a.delivery_address2, --no data in address 2\n",
        "  a.delivery_city,\n",
        "  a.delivery_zipcode,\n",
        "  o.delivery\n",
        "FROM orders o\n",
        "LEFT JOIN item i ON o.item_id=i.item_id\n",
        "LEFT JOIN address a ON o.add_id=a.add_id;\n",
        "\"\"\"\n",
        "result1=sql_query_to_pd(query,\"pizza_db\")"
      ],
      "metadata": {
        "id": "7C0zGRjsBM7C"
      },
      "execution_count": null,
      "outputs": []
    },
    {
      "cell_type": "code",
      "source": [
        "# Convert to appropriate data type\n",
        "result1['created_at']=pd.to_datetime(result1['created_at'],format=\"%d/%m/%Y %H:%M\")\n",
        "result1['delivery_zipcode']=result1['delivery_zipcode'].astype('str')"
      ],
      "metadata": {
        "id": "EIc2pR6JBM3q"
      },
      "execution_count": null,
      "outputs": []
    },
    {
      "cell_type": "code",
      "source": [
        "# Table for 1st dashboard \n",
        "result1"
      ],
      "metadata": {
        "colab": {
          "base_uri": "https://localhost:8080/",
          "height": 817
        },
        "id": "2pJWrKuqBM0R",
        "outputId": "bdc3942f-8fbb-431b-c236-e3c5106522dd"
      },
      "execution_count": null,
      "outputs": [
        {
          "output_type": "execute_result",
          "data": {
            "text/plain": [
              "      order_id  order_sales  quantity item_cat                item_name  \\\n",
              "0          109           24         2    Pizza     Pizza Margherita Reg   \n",
              "1          109           24         2    Pizza     Pizza Margherita Reg   \n",
              "2          109           24         2    Pizza     Pizza Margherita Reg   \n",
              "3          109           24         2    Pizza     Pizza Margherita Reg   \n",
              "4          110           16         1    Pizza  Pizza Diavola (hot) Reg   \n",
              "...        ...          ...       ...      ...                      ...   \n",
              "2507       166            5         1  Dessert        Chocolate Brownie   \n",
              "2508       166            6         1    Drink   Coca Cola Regular 1.5l   \n",
              "2509       166            6         1    Drink   Coca Cola Regular 1.5l   \n",
              "2510       166            6         1    Drink   Coca Cola Regular 1.5l   \n",
              "2511       166            6         1    Drink   Coca Cola Regular 1.5l   \n",
              "\n",
              "              created_at    delivery_address1 delivery_city delivery_zipcode  \\\n",
              "0    2022-08-10 13:22:00  607 Trails End Road    Manchester             6042   \n",
              "1    2022-08-10 13:22:00  607 Trails End Road    Manchester             6042   \n",
              "2    2022-08-10 13:22:00  607 Trails End Road    Manchester             6042   \n",
              "3    2022-08-10 13:22:00  607 Trails End Road    Manchester             6042   \n",
              "4    2022-08-10 13:53:00   25 Cliffside Drive    Manchester             6042   \n",
              "...                  ...                  ...           ...              ...   \n",
              "2507 2022-08-10 14:22:00   91 Eldridge Street    Manchester             6040   \n",
              "2508 2022-08-10 14:22:00   91 Eldridge Street    Manchester             6040   \n",
              "2509 2022-08-10 14:22:00   91 Eldridge Street    Manchester             6040   \n",
              "2510 2022-08-10 14:22:00   91 Eldridge Street    Manchester             6040   \n",
              "2511 2022-08-10 14:22:00   91 Eldridge Street    Manchester             6040   \n",
              "\n",
              "      delivery  \n",
              "0            1  \n",
              "1            1  \n",
              "2            1  \n",
              "3            1  \n",
              "4            1  \n",
              "...        ...  \n",
              "2507         1  \n",
              "2508         1  \n",
              "2509         1  \n",
              "2510         1  \n",
              "2511         1  \n",
              "\n",
              "[2512 rows x 10 columns]"
            ],
            "text/html": [
              "\n",
              "  <div id=\"df-613f1072-3945-4236-b6ae-b0b9166e0e22\">\n",
              "    <div class=\"colab-df-container\">\n",
              "      <div>\n",
              "<style scoped>\n",
              "    .dataframe tbody tr th:only-of-type {\n",
              "        vertical-align: middle;\n",
              "    }\n",
              "\n",
              "    .dataframe tbody tr th {\n",
              "        vertical-align: top;\n",
              "    }\n",
              "\n",
              "    .dataframe thead th {\n",
              "        text-align: right;\n",
              "    }\n",
              "</style>\n",
              "<table border=\"1\" class=\"dataframe\">\n",
              "  <thead>\n",
              "    <tr style=\"text-align: right;\">\n",
              "      <th></th>\n",
              "      <th>order_id</th>\n",
              "      <th>order_sales</th>\n",
              "      <th>quantity</th>\n",
              "      <th>item_cat</th>\n",
              "      <th>item_name</th>\n",
              "      <th>created_at</th>\n",
              "      <th>delivery_address1</th>\n",
              "      <th>delivery_city</th>\n",
              "      <th>delivery_zipcode</th>\n",
              "      <th>delivery</th>\n",
              "    </tr>\n",
              "  </thead>\n",
              "  <tbody>\n",
              "    <tr>\n",
              "      <th>0</th>\n",
              "      <td>109</td>\n",
              "      <td>24</td>\n",
              "      <td>2</td>\n",
              "      <td>Pizza</td>\n",
              "      <td>Pizza Margherita Reg</td>\n",
              "      <td>2022-08-10 13:22:00</td>\n",
              "      <td>607 Trails End Road</td>\n",
              "      <td>Manchester</td>\n",
              "      <td>6042</td>\n",
              "      <td>1</td>\n",
              "    </tr>\n",
              "    <tr>\n",
              "      <th>1</th>\n",
              "      <td>109</td>\n",
              "      <td>24</td>\n",
              "      <td>2</td>\n",
              "      <td>Pizza</td>\n",
              "      <td>Pizza Margherita Reg</td>\n",
              "      <td>2022-08-10 13:22:00</td>\n",
              "      <td>607 Trails End Road</td>\n",
              "      <td>Manchester</td>\n",
              "      <td>6042</td>\n",
              "      <td>1</td>\n",
              "    </tr>\n",
              "    <tr>\n",
              "      <th>2</th>\n",
              "      <td>109</td>\n",
              "      <td>24</td>\n",
              "      <td>2</td>\n",
              "      <td>Pizza</td>\n",
              "      <td>Pizza Margherita Reg</td>\n",
              "      <td>2022-08-10 13:22:00</td>\n",
              "      <td>607 Trails End Road</td>\n",
              "      <td>Manchester</td>\n",
              "      <td>6042</td>\n",
              "      <td>1</td>\n",
              "    </tr>\n",
              "    <tr>\n",
              "      <th>3</th>\n",
              "      <td>109</td>\n",
              "      <td>24</td>\n",
              "      <td>2</td>\n",
              "      <td>Pizza</td>\n",
              "      <td>Pizza Margherita Reg</td>\n",
              "      <td>2022-08-10 13:22:00</td>\n",
              "      <td>607 Trails End Road</td>\n",
              "      <td>Manchester</td>\n",
              "      <td>6042</td>\n",
              "      <td>1</td>\n",
              "    </tr>\n",
              "    <tr>\n",
              "      <th>4</th>\n",
              "      <td>110</td>\n",
              "      <td>16</td>\n",
              "      <td>1</td>\n",
              "      <td>Pizza</td>\n",
              "      <td>Pizza Diavola (hot) Reg</td>\n",
              "      <td>2022-08-10 13:53:00</td>\n",
              "      <td>25 Cliffside Drive</td>\n",
              "      <td>Manchester</td>\n",
              "      <td>6042</td>\n",
              "      <td>1</td>\n",
              "    </tr>\n",
              "    <tr>\n",
              "      <th>...</th>\n",
              "      <td>...</td>\n",
              "      <td>...</td>\n",
              "      <td>...</td>\n",
              "      <td>...</td>\n",
              "      <td>...</td>\n",
              "      <td>...</td>\n",
              "      <td>...</td>\n",
              "      <td>...</td>\n",
              "      <td>...</td>\n",
              "      <td>...</td>\n",
              "    </tr>\n",
              "    <tr>\n",
              "      <th>2507</th>\n",
              "      <td>166</td>\n",
              "      <td>5</td>\n",
              "      <td>1</td>\n",
              "      <td>Dessert</td>\n",
              "      <td>Chocolate Brownie</td>\n",
              "      <td>2022-08-10 14:22:00</td>\n",
              "      <td>91 Eldridge Street</td>\n",
              "      <td>Manchester</td>\n",
              "      <td>6040</td>\n",
              "      <td>1</td>\n",
              "    </tr>\n",
              "    <tr>\n",
              "      <th>2508</th>\n",
              "      <td>166</td>\n",
              "      <td>6</td>\n",
              "      <td>1</td>\n",
              "      <td>Drink</td>\n",
              "      <td>Coca Cola Regular 1.5l</td>\n",
              "      <td>2022-08-10 14:22:00</td>\n",
              "      <td>91 Eldridge Street</td>\n",
              "      <td>Manchester</td>\n",
              "      <td>6040</td>\n",
              "      <td>1</td>\n",
              "    </tr>\n",
              "    <tr>\n",
              "      <th>2509</th>\n",
              "      <td>166</td>\n",
              "      <td>6</td>\n",
              "      <td>1</td>\n",
              "      <td>Drink</td>\n",
              "      <td>Coca Cola Regular 1.5l</td>\n",
              "      <td>2022-08-10 14:22:00</td>\n",
              "      <td>91 Eldridge Street</td>\n",
              "      <td>Manchester</td>\n",
              "      <td>6040</td>\n",
              "      <td>1</td>\n",
              "    </tr>\n",
              "    <tr>\n",
              "      <th>2510</th>\n",
              "      <td>166</td>\n",
              "      <td>6</td>\n",
              "      <td>1</td>\n",
              "      <td>Drink</td>\n",
              "      <td>Coca Cola Regular 1.5l</td>\n",
              "      <td>2022-08-10 14:22:00</td>\n",
              "      <td>91 Eldridge Street</td>\n",
              "      <td>Manchester</td>\n",
              "      <td>6040</td>\n",
              "      <td>1</td>\n",
              "    </tr>\n",
              "    <tr>\n",
              "      <th>2511</th>\n",
              "      <td>166</td>\n",
              "      <td>6</td>\n",
              "      <td>1</td>\n",
              "      <td>Drink</td>\n",
              "      <td>Coca Cola Regular 1.5l</td>\n",
              "      <td>2022-08-10 14:22:00</td>\n",
              "      <td>91 Eldridge Street</td>\n",
              "      <td>Manchester</td>\n",
              "      <td>6040</td>\n",
              "      <td>1</td>\n",
              "    </tr>\n",
              "  </tbody>\n",
              "</table>\n",
              "<p>2512 rows × 10 columns</p>\n",
              "</div>\n",
              "      <button class=\"colab-df-convert\" onclick=\"convertToInteractive('df-613f1072-3945-4236-b6ae-b0b9166e0e22')\"\n",
              "              title=\"Convert this dataframe to an interactive table.\"\n",
              "              style=\"display:none;\">\n",
              "        \n",
              "  <svg xmlns=\"http://www.w3.org/2000/svg\" height=\"24px\"viewBox=\"0 0 24 24\"\n",
              "       width=\"24px\">\n",
              "    <path d=\"M0 0h24v24H0V0z\" fill=\"none\"/>\n",
              "    <path d=\"M18.56 5.44l.94 2.06.94-2.06 2.06-.94-2.06-.94-.94-2.06-.94 2.06-2.06.94zm-11 1L8.5 8.5l.94-2.06 2.06-.94-2.06-.94L8.5 2.5l-.94 2.06-2.06.94zm10 10l.94 2.06.94-2.06 2.06-.94-2.06-.94-.94-2.06-.94 2.06-2.06.94z\"/><path d=\"M17.41 7.96l-1.37-1.37c-.4-.4-.92-.59-1.43-.59-.52 0-1.04.2-1.43.59L10.3 9.45l-7.72 7.72c-.78.78-.78 2.05 0 2.83L4 21.41c.39.39.9.59 1.41.59.51 0 1.02-.2 1.41-.59l7.78-7.78 2.81-2.81c.8-.78.8-2.07 0-2.86zM5.41 20L4 18.59l7.72-7.72 1.47 1.35L5.41 20z\"/>\n",
              "  </svg>\n",
              "      </button>\n",
              "      \n",
              "  <style>\n",
              "    .colab-df-container {\n",
              "      display:flex;\n",
              "      flex-wrap:wrap;\n",
              "      gap: 12px;\n",
              "    }\n",
              "\n",
              "    .colab-df-convert {\n",
              "      background-color: #E8F0FE;\n",
              "      border: none;\n",
              "      border-radius: 50%;\n",
              "      cursor: pointer;\n",
              "      display: none;\n",
              "      fill: #1967D2;\n",
              "      height: 32px;\n",
              "      padding: 0 0 0 0;\n",
              "      width: 32px;\n",
              "    }\n",
              "\n",
              "    .colab-df-convert:hover {\n",
              "      background-color: #E2EBFA;\n",
              "      box-shadow: 0px 1px 2px rgba(60, 64, 67, 0.3), 0px 1px 3px 1px rgba(60, 64, 67, 0.15);\n",
              "      fill: #174EA6;\n",
              "    }\n",
              "\n",
              "    [theme=dark] .colab-df-convert {\n",
              "      background-color: #3B4455;\n",
              "      fill: #D2E3FC;\n",
              "    }\n",
              "\n",
              "    [theme=dark] .colab-df-convert:hover {\n",
              "      background-color: #434B5C;\n",
              "      box-shadow: 0px 1px 3px 1px rgba(0, 0, 0, 0.15);\n",
              "      filter: drop-shadow(0px 1px 2px rgba(0, 0, 0, 0.3));\n",
              "      fill: #FFFFFF;\n",
              "    }\n",
              "  </style>\n",
              "\n",
              "      <script>\n",
              "        const buttonEl =\n",
              "          document.querySelector('#df-613f1072-3945-4236-b6ae-b0b9166e0e22 button.colab-df-convert');\n",
              "        buttonEl.style.display =\n",
              "          google.colab.kernel.accessAllowed ? 'block' : 'none';\n",
              "\n",
              "        async function convertToInteractive(key) {\n",
              "          const element = document.querySelector('#df-613f1072-3945-4236-b6ae-b0b9166e0e22');\n",
              "          const dataTable =\n",
              "            await google.colab.kernel.invokeFunction('convertToInteractive',\n",
              "                                                     [key], {});\n",
              "          if (!dataTable) return;\n",
              "\n",
              "          const docLinkHtml = 'Like what you see? Visit the ' +\n",
              "            '<a target=\"_blank\" href=https://colab.research.google.com/notebooks/data_table.ipynb>data table notebook</a>'\n",
              "            + ' to learn more about interactive tables.';\n",
              "          element.innerHTML = '';\n",
              "          dataTable['output_type'] = 'display_data';\n",
              "          await google.colab.output.renderOutput(dataTable, element);\n",
              "          const docLink = document.createElement('div');\n",
              "          docLink.innerHTML = docLinkHtml;\n",
              "          element.appendChild(docLink);\n",
              "        }\n",
              "      </script>\n",
              "    </div>\n",
              "  </div>\n",
              "  "
            ]
          },
          "metadata": {},
          "execution_count": 39
        }
      ]
    }
  ]
}