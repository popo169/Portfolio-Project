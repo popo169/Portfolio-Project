{
  "nbformat": 4,
  "nbformat_minor": 0,
  "metadata": {
    "colab": {
      "provenance": [],
      "collapsed_sections": [
        "wE3urEK9A25Z"
      ],
      "toc_visible": true,
      "authorship_tag": "ABX9TyMZtOUAu990faiRpnor5vn8",
      "include_colab_link": true
    },
    "kernelspec": {
      "name": "python3",
      "display_name": "Python 3"
    },
    "language_info": {
      "name": "python"
    }
  },
  "cells": [
    {
      "cell_type": "markdown",
      "metadata": {
        "id": "view-in-github",
        "colab_type": "text"
      },
      "source": [
        "<a href=\"https://colab.research.google.com/github/popo169/Portfolio-Project/blob/main/Copy_of_Pizza_Project.ipynb\" target=\"_parent\"><img src=\"https://colab.research.google.com/assets/colab-badge.svg\" alt=\"Open In Colab\"/></a>"
      ]
    },
    {
      "cell_type": "markdown",
      "source": [
        "#Introduction"
      ],
      "metadata": {
        "id": "cUgxnMi1amcf"
      }
    },
    {
      "cell_type": "markdown",
      "source": [
        "Business intelligence is very important nowadays. It helps you to know better of your company including how the sales recently, which item is going to out of stock and most importantly, what is the profit.\n",
        "\n",
        "In this project, I am going to demonstrate how to use data from a pizza shop along with SQL to create 3 dashboards for business intelligence."
      ],
      "metadata": {
        "id": "b8gyoO6hEEMK"
      }
    },
    {
      "cell_type": "markdown",
      "source": [
        "##Data content"
      ],
      "metadata": {
        "id": "QcPTqaoGEIYz"
      }
    },
    {
      "cell_type": "markdown",
      "source": [
        "There are 10 tables in the dataset.\n",
        "\n",
        "Table name | Content | Columns\n",
        "--- | --- | ---\n",
        "Address | Customers' address and zip code | 'add_id', 'delivery_address1', 'delivery_address2', 'delivery_city', 'delivery_zipcode'\n",
        "Customers | First and last name | 'cust_id', 'cust_firstname', 'cust_lastname'\n",
        "Ingredient | Ingredient name, weight, unit and price | 'ing_id', 'ing_name', 'ing_weight', 'ing_meas', 'ing_price'\n",
        "Inventory | Quantity of inventory | 'inv_id', 'item_id', 'quantity'\n",
        "Item | Item name, code, category, size and price | 'item_id', 'sku', 'item_name', 'item_cat', 'item_size', 'item_price'\n",
        "Orders | Order create time, item ordered, quantity, customer ID, delivery/pick up, address ID | 'row_id', 'order_id', 'created_at', 'item_id', 'quantity', 'cust_id', 'delivery', 'add_id'\n",
        "Recipe | Recipe ID, ingredient ID, required quantity | 'row_id', 'recipe_id', 'ing_id', 'quantity'\n",
        "Rota | Duty date, shift ID, staff ID | 'row_id', 'rota_id', 'date', 'shift_id', 'staff_id'\n",
        "Shift | Day of week, start time and end time | 'shift_id', 'day_of_week', 'start_time', 'end_time'\n",
        "Staff | Staff first and last name, position, hourly rate | 'staff_id', 'first_name', 'last_name', 'position', 'hourly_rate'"
      ],
      "metadata": {
        "id": "PwUnDFpPAqC6"
      }
    },
    {
      "cell_type": "markdown",
      "source": [
        "##Dashboard 1"
      ],
      "metadata": {
        "id": "M7ka5oBdEMjN"
      }
    },
    {
      "cell_type": "markdown",
      "source": [
        "This dashboard contains the basic information about the pizza shop. It tells whether the pizza shop is earning or losing money.\n",
        "1.   Total number of order\n",
        "2.   Total sales\n",
        "3.   Total item sold\n",
        "4.   Average order value\n",
        "5.   Sales by category\n",
        "6.   Top selling item\n",
        "7.   Orders by hour\n",
        "8.   Sales by hour\n",
        "9.   Orders by address\n",
        "10.  Orders by delivery/pick up"
      ],
      "metadata": {
        "id": "pmlRLHKeAyU1"
      }
    },
    {
      "cell_type": "markdown",
      "source": [
        "##Dashboard 2"
      ],
      "metadata": {
        "id": "wLaLYOLcEPL3"
      }
    },
    {
      "cell_type": "markdown",
      "source": [
        "The second dashboard is about the material cost and stock information to keep the pizza shop running.\n",
        "1.   Total quantity required for orders by ingredient\n",
        "2.   Total cost of ingredients for orders\n",
        "3.   Calculated cost of pizza\n",
        "4.   Percentage stock remaining by ingredient\n",
        "5.   List of ingredients to re-order based on remaining inventory"
      ],
      "metadata": {
        "id": "pavkftPyAsec"
      }
    },
    {
      "cell_type": "markdown",
      "source": [
        "##Dashboard 3"
      ],
      "metadata": {
        "id": "psmn0uV4ER3w"
      }
    },
    {
      "cell_type": "markdown",
      "source": [
        "The last dashboard is going to capture the human resource cost of the pizza shop.\n",
        "1.   Hours worked by staff member\n",
        "2.   Total hours worked\n",
        "3.   Cost per staff member\n",
        "4.   Total staff cost"
      ],
      "metadata": {
        "id": "24J6_Qb7A0ee"
      }
    },
    {
      "cell_type": "markdown",
      "source": [
        "##Import data"
      ],
      "metadata": {
        "id": "wE3urEK9A25Z"
      }
    },
    {
      "cell_type": "code",
      "source": [
        "# connect google drive\n",
        "from google.colab import drive\n",
        "drive.mount('/content/gdrive')"
      ],
      "metadata": {
        "colab": {
          "base_uri": "https://localhost:8080/"
        },
        "id": "TSoX3qdLBLRa",
        "outputId": "d2e564d7-0155-4989-efa3-65839a9a6b14"
      },
      "execution_count": null,
      "outputs": [
        {
          "output_type": "stream",
          "name": "stdout",
          "text": [
            "Drive already mounted at /content/gdrive; to attempt to forcibly remount, call drive.mount(\"/content/gdrive\", force_remount=True).\n"
          ]
        }
      ]
    },
    {
      "cell_type": "code",
      "source": [
        "# import library\n",
        "import sqlite3\n",
        "import pandas as pd\n",
        "import numpy as np"
      ],
      "metadata": {
        "id": "dOYIT7MzBNMN"
      },
      "execution_count": null,
      "outputs": []
    },
    {
      "cell_type": "code",
      "source": [
        "# import data\n",
        "address=pd.read_csv('/content/gdrive/My Drive/dataset/SQL/pizza_proj/address.csv')\n",
        "customers=pd.read_csv('/content/gdrive/My Drive/dataset/SQL/pizza_proj/customers.csv')\n",
        "ingredient=pd.read_csv('/content/gdrive/My Drive/dataset/SQL/pizza_proj/ingredient.csv')\n",
        "inventory=pd.read_csv('/content/gdrive/My Drive/dataset/SQL/pizza_proj/inventory.csv')\n",
        "item=pd.read_csv('/content/gdrive/My Drive/dataset/SQL/pizza_proj/item.csv')\n",
        "orders=pd.read_csv('/content/gdrive/My Drive/dataset/SQL/pizza_proj/orders.csv')\n",
        "recipe=pd.read_csv('/content/gdrive/My Drive/dataset/SQL/pizza_proj/recipe.csv')\n",
        "rota=pd.read_csv('/content/gdrive/My Drive/dataset/SQL/pizza_proj/rota.csv')\n",
        "shift=pd.read_csv('/content/gdrive/My Drive/dataset/SQL/pizza_proj/shift.csv')\n",
        "staff=pd.read_csv('/content/gdrive/My Drive/dataset/SQL/pizza_proj/staff.csv')"
      ],
      "metadata": {
        "id": "_H2UlVeZBNFO"
      },
      "execution_count": null,
      "outputs": []
    },
    {
      "cell_type": "code",
      "source": [
        "# import data to sql tables\n",
        "pd_to_sqlDB(address,\"address\",\"pizza_db\")\n",
        "pd_to_sqlDB(customers,\"customers\",\"pizza_db\")\n",
        "pd_to_sqlDB(ingredient,\"ingredient\",\"pizza_db\")\n",
        "pd_to_sqlDB(inventory,\"inventory\",\"pizza_db\")\n",
        "pd_to_sqlDB(item,\"item\",\"pizza_db\")\n",
        "pd_to_sqlDB(orders,\"orders\",\"pizza_db\")\n",
        "pd_to_sqlDB(recipe,\"recipe\",\"pizza_db\")\n",
        "pd_to_sqlDB(rota,\"rota\",\"pizza_db\")\n",
        "pd_to_sqlDB(shift,\"shift\",\"pizza_db\")\n",
        "pd_to_sqlDB(staff,\"staff\",\"pizza_db\")"
      ],
      "metadata": {
        "id": "PN_mTrdEBNBv"
      },
      "execution_count": null,
      "outputs": []
    }
  ]
}